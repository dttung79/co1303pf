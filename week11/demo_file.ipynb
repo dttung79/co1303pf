{
 "cells": [
  {
   "cell_type": "code",
   "execution_count": 12,
   "metadata": {},
   "outputs": [
    {
     "name": "stdout",
     "output_type": "stream",
     "text": [
      "Authors using gmails have been saved to authors.csv\n"
     ]
    }
   ],
   "source": [
    "import csv\n",
    "\n",
    "try:\n",
    "    f = open('authors.txt', 'r')\n",
    "    lines = f.readlines()\n",
    "    fw = open('authors.csv', 'w', newline='')   # open to write\n",
    "    writer = csv.writer(fw)\n",
    "    #print(f'{\"Name\":20} {\"Email\":20}')\n",
    "    writer.writerow(['Name', 'Email'])\n",
    "    for line in lines:\n",
    "        if '@' in line and '@gmail.com' in line:\n",
    "            name = line.split(' <')[0]  # get name\n",
    "            email = line.split(' <')[1] # get email, still has '>'\n",
    "            email = email[:-2]    # remove '>' at the end\n",
    "            #print(f'{name:20} {email:20}')\n",
    "            writer.writerow([name, email])\n",
    "    f.close()\n",
    "    fw.close()\n",
    "    print('Authors using gmails have been saved to authors.csv')\n",
    "except FileNotFoundError:\n",
    "    print('File authors.txt not found')\n"
   ]
  },
  {
   "cell_type": "code",
   "execution_count": null,
   "metadata": {},
   "outputs": [],
   "source": [
    "# read books.csv, find books which has price >= 400 then write them to expensive_books.csv"
   ]
  },
  {
   "cell_type": "code",
   "execution_count": null,
   "metadata": {},
   "outputs": [],
   "source": [
    "import csv\n",
    "f = open('books.csv', 'r')\n",
    "reader = csv.reader(f)  # create a reader object from the file f\n",
    "header = next(reader)   # read the first line as header\n",
    "fw = open('expensive_books.csv', 'w', newline='')   # open to write\n",
    "writer = csv.writer(fw)\n",
    "writer.writerow(header) # write header to the new file\n",
    "#print(f'{header[0]:40}{header[1]:25}{header[2]:20}')\n",
    "for row in reader:\n",
    "    #print(f'{row[0]:40}{row[1]:25}{row[2]:20}')\n",
    "    if int(row[2]) >= 400:\n",
    "        writer.writerow(row)\n",
    "f.close()\n",
    "fw.close()"
   ]
  }
 ],
 "metadata": {
  "kernelspec": {
   "display_name": "Python 3",
   "language": "python",
   "name": "python3"
  },
  "language_info": {
   "codemirror_mode": {
    "name": "ipython",
    "version": 3
   },
   "file_extension": ".py",
   "mimetype": "text/x-python",
   "name": "python",
   "nbconvert_exporter": "python",
   "pygments_lexer": "ipython3",
   "version": "3.12.4"
  }
 },
 "nbformat": 4,
 "nbformat_minor": 2
}
