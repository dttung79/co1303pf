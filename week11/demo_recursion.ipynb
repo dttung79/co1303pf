{
 "cells": [
  {
   "cell_type": "code",
   "execution_count": null,
   "metadata": {},
   "outputs": [
    {
     "name": "stdout",
     "output_type": "stream",
     "text": [
      "0 1 2 3 4 5 6 7 8 9 "
     ]
    }
   ],
   "source": [
    "# Recursion: a function that calls itself (directly or indirectly).\n",
    "\n",
    "def print_series(n, start=0):\n",
    "    if start == n:\n",
    "        return\n",
    "\n",
    "    print(start, end=' ')\n",
    "    print_series(n, start + 1)\n",
    "\n",
    "print_series(10)"
   ]
  },
  {
   "cell_type": "code",
   "execution_count": 4,
   "metadata": {},
   "outputs": [
    {
     "name": "stdout",
     "output_type": "stream",
     "text": [
      "10 9 8 7 6 5 4 3 2 1 "
     ]
    }
   ],
   "source": [
    "# A recusive function consists of two parts:\n",
    "# 1. Base case: the condition that stops the recursion.\n",
    "# 2. Recursive case: the condition that continues the recursion.\n",
    "def print_reverse(n, stop=1):\n",
    "    if n < stop:\n",
    "        return\n",
    "    print(n, end=' ')\n",
    "    print_reverse(n - 1, stop)\n",
    "\n",
    "print_reverse(10)"
   ]
  },
  {
   "cell_type": "code",
   "execution_count": 5,
   "metadata": {},
   "outputs": [
    {
     "name": "stdout",
     "output_type": "stream",
     "text": [
      "True\n",
      "False\n"
     ]
    }
   ],
   "source": [
    "def find_x(a, x, start=0):\n",
    "    # base case\n",
    "    if start == len(a):\n",
    "        return False\n",
    "    if a[start] == x:\n",
    "        return True\n",
    "    # recursive case\n",
    "    return find_x(a, x, start + 1)\n",
    "\n",
    "a = [3, 10, 5, 7, 2]\n",
    "print(find_x(a, 5)) # True\n",
    "print(find_x(a, 8)) # False"
   ]
  },
  {
   "cell_type": "code",
   "execution_count": 6,
   "metadata": {},
   "outputs": [
    {
     "name": "stdout",
     "output_type": "stream",
     "text": [
      "2\n",
      "-1\n"
     ]
    }
   ],
   "source": [
    "# implement find_pos: return position of x in a, or -1 if not found\n",
    "def find_pos(a, x, start=0):\n",
    "    # base case\n",
    "    if start == len(a):\n",
    "        return -1\n",
    "    if a[start] == x:\n",
    "        return start\n",
    "    # recursive case\n",
    "    return find_pos(a, x, start + 1)\n",
    "\n",
    "a = [3, 10, 5, 7, 2]\n",
    "print(find_pos(a, 5)) # 2\n",
    "print(find_pos(a, 8)) # -1"
   ]
  },
  {
   "cell_type": "code",
   "execution_count": 7,
   "metadata": {},
   "outputs": [
    {
     "name": "stdout",
     "output_type": "stream",
     "text": [
      "1 1 2 3 5 8 13 21 34 55 "
     ]
    }
   ],
   "source": [
    "def fibonacci(n):\n",
    "    if n == 0 or n == 1:\n",
    "        return 1\n",
    "    return fibonacci(n - 1) + fibonacci(n - 2)\n",
    "\n",
    "for i in range(10):\n",
    "    print(fibonacci(i), end=' ')"
   ]
  },
  {
   "cell_type": "code",
   "execution_count": 8,
   "metadata": {},
   "outputs": [
    {
     "name": "stdout",
     "output_type": "stream",
     "text": [
      "120\n"
     ]
    }
   ],
   "source": [
    "def factorial(n):\n",
    "    if n == 0 or n == 1:\n",
    "        return 1\n",
    "    return n * factorial(n - 1)\n",
    "\n",
    "print(factorial(5)) # 120"
   ]
  }
 ],
 "metadata": {
  "kernelspec": {
   "display_name": "Python 3",
   "language": "python",
   "name": "python3"
  },
  "language_info": {
   "codemirror_mode": {
    "name": "ipython",
    "version": 3
   },
   "file_extension": ".py",
   "mimetype": "text/x-python",
   "name": "python",
   "nbconvert_exporter": "python",
   "pygments_lexer": "ipython3",
   "version": "3.12.4"
  }
 },
 "nbformat": 4,
 "nbformat_minor": 2
}
