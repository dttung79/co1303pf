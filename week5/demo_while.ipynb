{
 "cells": [
  {
   "cell_type": "markdown",
   "metadata": {},
   "source": [
    "# while loop\n",
    "* while loop is used to execute a block of code repeatedly as long as the condition is true.\n",
    "* Syntax:\n",
    "```python\n",
    "while condition:\n",
    "    # code block\n",
    "```"
   ]
  },
  {
   "cell_type": "code",
   "execution_count": 2,
   "metadata": {},
   "outputs": [
    {
     "name": "stdout",
     "output_type": "stream",
     "text": [
      "n = 100\n"
     ]
    }
   ],
   "source": [
    "# ask user to enter a positive integer\n",
    "n = 0 # initialize n that is not positive\n",
    "while n <= 0:\n",
    "    n = int(input(\"Enter a positive integer: \"))\n",
    "    if n <= 0:\n",
    "        print(\"Please enter a positive integer.\")\n",
    "\n",
    "print(f'n = {n}')"
   ]
  },
  {
   "cell_type": "code",
   "execution_count": 4,
   "metadata": {},
   "outputs": [
    {
     "name": "stdout",
     "output_type": "stream",
     "text": [
      "Current total sales: $1500.0\n",
      "Final total sales: $1500.0\n"
     ]
    }
   ],
   "source": [
    "# A saleman selling products with different prices. He will stop for a day if he reaches a certain amount of sales (1000)\n",
    "total_sales = 0\n",
    "while total_sales < 1000:\n",
    "    product = input(\"Enter the product name: \")\n",
    "    price = float(input(\"Enter the price of the product: \"))\n",
    "    print(f'Sell {product} for ${price}')\n",
    "    total_sales += price\n",
    "    print(f'Current total sales: ${total_sales}')\n",
    "\n",
    "print(f'Final total sales: ${total_sales}')"
   ]
  },
  {
   "cell_type": "code",
   "execution_count": 5,
   "metadata": {},
   "outputs": [
    {
     "name": "stdout",
     "output_type": "stream",
     "text": [
      "Found bug: dns with fault value: 30\n",
      "Current total fault value: 30\n",
      "Found bug: ip leak with fault value: 80\n",
      "Current total fault value: 110\n",
      "System stopped. Total fault value: 110\n"
     ]
    }
   ],
   "source": [
    "# A system is tested for tolorance. Each bug found is asigned a fault value. The system will stop if the total fault value exceeds 100\n",
    "# Write a program to simulate this. Tester will enter bug name and fault value while testing. Stop when total fault value exceeds 100\n",
    "total_fault = 0\n",
    "while total_fault < 100:\n",
    "    bug = input('Enter bug found: ')\n",
    "    fault = int(input('Enter fault value: '))\n",
    "    total_fault += fault\n",
    "    print(f'Found bug: {bug} with fault value: {fault}')\n",
    "    print(f'Current total fault value: {total_fault}')\n",
    "\n",
    "print(f'System stopped. Total fault value: {total_fault}')"
   ]
  },
  {
   "cell_type": "code",
   "execution_count": 7,
   "metadata": {},
   "outputs": [
    {
     "name": "stdout",
     "output_type": "stream",
     "text": [
      "Time: 8h. It is time to drink water.\n",
      "You still need to drink 1.70L of water.\n",
      "Time: 10h. It is time to drink water.\n",
      "You still need to drink 1.40L of water.\n",
      "Time: 12h. It is time to drink water.\n",
      "You still need to drink 0.90L of water.\n",
      "Time: 14h. It is time to drink water.\n",
      "Enough water for the day. Total water drank: 2.10L\n"
     ]
    }
   ],
   "source": [
    "# A person should drink 2L of water for a day.\n",
    "# A program reminds a person to drink water every 2 hours until the person drinks 2L of water, starting from 8am\n",
    "total_water = 0\n",
    "hours = 8\n",
    "while total_water < 2:\n",
    "    print(f'Time: {hours}h. It is time to drink water.')\n",
    "    water = float(input('Enter the amount of water you drink: '))\n",
    "    total_water += water\n",
    "    if total_water < 2:\n",
    "        print(f'You still need to drink {2 - total_water:.2f}L of water.')\n",
    "    hours += 2\n",
    "\n",
    "print(f'Enough water for the day. Total water drank: {total_water:.2f}L')"
   ]
  },
  {
   "cell_type": "markdown",
   "metadata": {},
   "source": [
    "# Exit / skip the loop in the middle: break\n",
    "* The break statement is used to exit the loop.\n",
    "* Syntax:\n",
    "```python\n",
    "while condition:\n",
    "    statement_block1\n",
    "    if other_condition:\n",
    "        break\n",
    "    statement_block2\n",
    "```"
   ]
  },
  {
   "cell_type": "code",
   "execution_count": 11,
   "metadata": {},
   "outputs": [
    {
     "name": "stdout",
     "output_type": "stream",
     "text": [
      "Checking for bus...\n",
      "Checking for bus...\n",
      "Bus is here. Have a safe trip!\n"
     ]
    }
   ],
   "source": [
    "# A man waiting for a bus that comes every 15 minutes. He check the bus frequently but he is very impatient and will leave after 3 checks\n",
    "bus_arrive = False\n",
    "n_checks = 0\n",
    "while not bus_arrive:\n",
    "    print('Checking for bus...')\n",
    "    arrive = input('Is the bus here? (yes/no): ')\n",
    "    bus_arrive = arrive == 'yes'\n",
    "    n_checks += 1\n",
    "    if bus_arrive:\n",
    "        print('Bus is here. Have a safe trip!')\n",
    "    elif n_checks == 3:\n",
    "        print('Bus did not arrive. I am leaving.')\n",
    "        break"
   ]
  },
  {
   "cell_type": "markdown",
   "metadata": {},
   "source": [
    "* The continue statement is used to skip the rest of the code inside a loop for the current iteration only."
   ]
  },
  {
   "cell_type": "code",
   "execution_count": 12,
   "metadata": {},
   "outputs": [
    {
     "name": "stdout",
     "output_type": "stream",
     "text": [
      "0 1 2 3 4 \n",
      "0 1 2 3 4 6 7 8 9 "
     ]
    }
   ],
   "source": [
    "for i in range(10):\n",
    "    if i == 5:\n",
    "        break\n",
    "    print(i, end=' ')\n",
    "print()\n",
    "for i in range(10):\n",
    "    if i == 5:\n",
    "        continue\n",
    "    print(i, end=' ')"
   ]
  },
  {
   "cell_type": "code",
   "execution_count": null,
   "metadata": {},
   "outputs": [],
   "source": [
    "# printing elevator floor (from 1 to 20), skipping 13th floor due to superstition\n",
    "for i in range(1, 21):\n",
    "    if i == 13:\n",
    "        continue\n",
    "    print(f'Floor {i}')"
   ]
  },
  {
   "cell_type": "code",
   "execution_count": 15,
   "metadata": {},
   "outputs": [
    {
     "name": "stdout",
     "output_type": "stream",
     "text": [
      "Now playing Hello goodbye by John\n",
      "Now playing Ngo Dinh Tung by Dom dom\n",
      "Now playing abc by abc\n",
      "Now playing  by \n",
      "Now playing yes by yes\n"
     ]
    }
   ],
   "source": [
    "# Simulate a music player that plays until user stops it\n",
    "# Each song will have name and artist, user will skip if artist is 'Jack'\n",
    "playing = True\n",
    "\n",
    "while playing:\n",
    "    song = input('Enter song name: ')\n",
    "    artist = input('Enter artist name: ')\n",
    "    if artist == 'Jack':\n",
    "        print('Skipping song...')\n",
    "        continue\n",
    "    print(f'Now playing {song} by {artist}')\n",
    "    stop = input('Do you want to stop the music? (yes/no): ')\n",
    "    playing = stop != 'yes'"
   ]
  },
  {
   "cell_type": "code",
   "execution_count": null,
   "metadata": {},
   "outputs": [],
   "source": [
    "# Nested loop: a loop inside another loop\n",
    "# for loop inside while loop\n",
    "# Print a multiplication table of n, after that ask user if they want to print another table? If yes then do it again\n",
    "\n",
    "printing = True\n",
    "while printing:\n",
    "    n = int(input('Enter n: '))\n",
    "    if n <= 0:\n",
    "        print('Please enter a positive integer.')\n",
    "        continue\n",
    "    for i in range(1, 11):\n",
    "        print(f'{n} x {i} = {n * i}')\n",
    "    answer = input('Print another table? (yes/no): ')\n",
    "    printing = answer == 'yes'"
   ]
  },
  {
   "cell_type": "code",
   "execution_count": null,
   "metadata": {},
   "outputs": [],
   "source": [
    "import random as rd\n",
    "n = rd.randint(1, 10) # generate a random number between 1 and 10\n",
    "print(n)"
   ]
  },
  {
   "cell_type": "code",
   "execution_count": null,
   "metadata": {},
   "outputs": [],
   "source": [
    "# Play a guessing game. The computer will generate a random number between 1 and 10\n",
    "# User will keep guessing the number. If the guess is correct, the game will stop\n",
    "# Program will allow user to play 5 games\n",
    "for i in range(1, 6):\n",
    "    print(f'Game {i}:')\n",
    "    n = rd.randint(1, 10) # generate a random number between 1 and 10\n",
    "    correct = False\n",
    "\n",
    "    while not correct:\n",
    "        # enter a guess\n",
    "        guess = int(input('Enter your guess (1-10): '))\n",
    "        # if guess is correct, set correct to True\n",
    "        if guess == n:\n",
    "            print('You guessed it right!')\n",
    "            correct = True\n",
    "        else:\n",
    "            print('Try again')"
   ]
  },
  {
   "cell_type": "code",
   "execution_count": null,
   "metadata": {},
   "outputs": [],
   "source": [
    "# A woman wants to buy stuff from a store. She has a budget of $100\n",
    "# Program will ask for the item and its price. If the item and price are not valid,\n",
    "# the program will ask again. If the total price exceeds $100, the program will stop"
   ]
  },
  {
   "cell_type": "code",
   "execution_count": null,
   "metadata": {},
   "outputs": [],
   "source": [
    "budget = 100\n",
    "total = 0\n",
    "\n",
    "while total < budget:\n",
    "    invalid = True\n",
    "    \n",
    "    while invalid:\n",
    "        item = input('Enter item name: ')\n",
    "        price = int(input('Enter price: '))\n",
    "        invalid = price <= 0 or item == ''\n",
    "        if invalid:\n",
    "            print('Invalid item or price. Please enter again.')\n",
    "    \n",
    "    print(f'Buy {item} for ${price}')\n",
    "    total += price\n",
    "\n",
    "print(f'You have reached your budget. Total spent: ${total}')"
   ]
  }
 ],
 "metadata": {
  "kernelspec": {
   "display_name": "Python 3",
   "language": "python",
   "name": "python3"
  },
  "language_info": {
   "codemirror_mode": {
    "name": "ipython",
    "version": 3
   },
   "file_extension": ".py",
   "mimetype": "text/x-python",
   "name": "python",
   "nbconvert_exporter": "python",
   "pygments_lexer": "ipython3",
   "version": "3.12.4"
  }
 },
 "nbformat": 4,
 "nbformat_minor": 2
}
