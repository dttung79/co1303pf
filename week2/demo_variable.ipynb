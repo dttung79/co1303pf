{
 "cells": [
  {
   "cell_type": "markdown",
   "metadata": {},
   "source": [
    "## Introduce variable\n",
    "### Variable contains:\n",
    "- a name: length\n",
    "- a value: 100\n",
    "- a type: int\n",
    "### Naming varialbe\n",
    "#### Rules:\n",
    "- Start with a letter or underscore\n",
    "- Contain only letters, numbers, and underscores\n",
    "- Case-sensitive: length, Length, and LENGTH are different variables\n",
    "#### Convention:\n",
    "- Use a lowercase single letter: name, age\n",
    "- Separate words with underscores to improve readability: first_name, last_name\n",
    "- Use meaningful names: total_price, tax_rate, number_of_people\n",
    "- Avoid too short names: n, x, i\n",
    "- Avoid too long names: number_of_people_in_the_room\n",
    "- Avoid using the same name as a built-in function, keywords: print, input, int, list, ...\n",
    "- Constants: Use all capital letters with underscores separating words: PI, TAX_RATE"
   ]
  },
  {
   "cell_type": "code",
   "execution_count": 1,
   "metadata": {},
   "outputs": [],
   "source": [
    "length = 100"
   ]
  },
  {
   "cell_type": "code",
   "execution_count": 2,
   "metadata": {},
   "outputs": [
    {
     "name": "stdout",
     "output_type": "stream",
     "text": [
      "Hello, John\n",
      "You are born in  1999\n",
      "You are 25 years old\n"
     ]
    }
   ],
   "source": [
    "name = input('Enter your name: ')                   # get name from user input\n",
    "birth_year = int(input('Enter your birth year: '))  # get birth year from user input, convert to integer\n",
    "age = 2024 - birth_year     # calculate age\n",
    "\n",
    "print('Hello, ' + name)                # print name, using concatenation operator\n",
    "print('You are born in ', birth_year)  # print birth year, using comma\n",
    "print(f'You are {age} years old')      # print age, using f-string formatting"
   ]
  },
  {
   "cell_type": "code",
   "execution_count": null,
   "metadata": {},
   "outputs": [],
   "source": [
    "# convert data types\n",
    "# string to int\n",
    "birth_year = int('1990')\n",
    "# int to string\n",
    "birth_year = str(1990)"
   ]
  },
  {
   "cell_type": "code",
   "execution_count": 5,
   "metadata": {},
   "outputs": [
    {
     "name": "stdout",
     "output_type": "stream",
     "text": [
      "Welcome, John Doe\n",
      "**********\n",
      "True\n",
      "True\n"
     ]
    }
   ],
   "source": [
    "# string operators: +, *, in, not in\n",
    "# Concatenation\n",
    "first_name = 'John'\n",
    "last_name = 'Doe'\n",
    "welcome_message = 'Welcome, ' + first_name + ' ' + last_name\n",
    "print(welcome_message)\n",
    "# Multiplication\n",
    "s = '*' * 10\n",
    "print(s)\n",
    "# Check if a string is in another string\n",
    "print('hello' in 'hello world')\n",
    "print('Hello' not in 'hello world')"
   ]
  },
  {
   "cell_type": "code",
   "execution_count": 6,
   "metadata": {},
   "outputs": [
    {
     "name": "stdout",
     "output_type": "stream",
     "text": [
      "10 + 3 = 13\n",
      "10 - 3 = 7\n",
      "10 * 3 = 30\n",
      "10 / 3 = 3.3333333333333335\n",
      "10 // 3 = 3\n",
      "10 % 3 = 1\n",
      "10 ** 3 = 1000\n"
     ]
    }
   ],
   "source": [
    "# integer operators: +, -, *, /, //, %, **\n",
    "a = 10\n",
    "b = 3\n",
    "print(f'{a} + {b} = {a + b}')\n",
    "print(f'{a} - {b} = {a - b}')\n",
    "print(f'{a} * {b} = {a * b}')\n",
    "print(f'{a} / {b} = {a / b}')   # true division, return float\n",
    "print(f'{a} // {b} = {a // b}') # floor division, return integer\n",
    "print(f'{a} % {b} = {a % b}')   # modulo, get the remainder\n",
    "print(f'{a} ** {b} = {a ** b}') # exponentiation"
   ]
  },
  {
   "cell_type": "code",
   "execution_count": null,
   "metadata": {},
   "outputs": [],
   "source": [
    "# Other data types: float, boolean\n",
    "a = 10.5 # float\n",
    "a = 5.0  # float\n",
    "b = True # boolean\n",
    "c = False # boolean"
   ]
  },
  {
   "cell_type": "code",
   "execution_count": 7,
   "metadata": {},
   "outputs": [
    {
     "name": "stdout",
     "output_type": "stream",
     "text": [
      "5 <class 'int'>\n",
      "5.0 <class 'float'>\n",
      "5 <class 'str'>\n",
      "True <class 'bool'>\n"
     ]
    }
   ],
   "source": [
    "# auto change data type according to the value (not like C/C++/Java/etc)\n",
    "a = 5 # a is integer\n",
    "print(a, type(a))\n",
    "a = 5.0 # a is float\n",
    "print(a, type(a))\n",
    "a = '5' # a is string\n",
    "print(a, type(a))\n",
    "a = True # a is boolean\n",
    "print(a, type(a))"
   ]
  },
  {
   "cell_type": "code",
   "execution_count": 8,
   "metadata": {},
   "outputs": [
    {
     "name": "stdout",
     "output_type": "stream",
     "text": [
      "4395787384 4395787352\n"
     ]
    }
   ],
   "source": [
    "# Variable is stored in memory (stack memory), and it's a reference to the value\n",
    "a = 5\n",
    "b = 4\n",
    "# print address of a and b in memory\n",
    "print(id(a), id(b))"
   ]
  },
  {
   "cell_type": "code",
   "execution_count": 40,
   "metadata": {},
   "outputs": [
    {
     "name": "stdout",
     "output_type": "stream",
     "text": [
      "66\n"
     ]
    }
   ],
   "source": [
    "# Generate random numbers\n",
    "from random import randint\n",
    "# generate a random number between 1 and 100\n",
    "a = randint(1, 100)\n",
    "print(a)"
   ]
  },
  {
   "cell_type": "code",
   "execution_count": 41,
   "metadata": {},
   "outputs": [
    {
     "name": "stdout",
     "output_type": "stream",
     "text": [
      "Hi, computer, please give me a number to win lottery: \n",
      "Here you are:  4\n"
     ]
    }
   ],
   "source": [
    "print('Hi, computer, please give me a number to win lottery: ')\n",
    "a = randint(1, 100)\n",
    "print('Here you are: ', a)"
   ]
  }
 ],
 "metadata": {
  "kernelspec": {
   "display_name": "Python 3",
   "language": "python",
   "name": "python3"
  },
  "language_info": {
   "codemirror_mode": {
    "name": "ipython",
    "version": 3
   },
   "file_extension": ".py",
   "mimetype": "text/x-python",
   "name": "python",
   "nbconvert_exporter": "python",
   "pygments_lexer": "ipython3",
   "version": "3.12.4"
  }
 },
 "nbformat": 4,
 "nbformat_minor": 2
}
