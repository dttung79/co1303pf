{
 "cells": [
  {
   "cell_type": "code",
   "execution_count": 11,
   "metadata": {},
   "outputs": [],
   "source": [
    "students = ['Alice', 'Dylan', 'John', 'Tom', 'Linda', 'Mike', 'Simpson', 'Donald']\n",
    "grades = [25, 50, 35, 85, 60, 90, 33, 55]\n",
    "activities = [80, 60, 90, 70, 85, 25, 100, 75]"
   ]
  },
  {
   "cell_type": "code",
   "execution_count": 14,
   "metadata": {},
   "outputs": [
    {
     "name": "stdout",
     "output_type": "stream",
     "text": [
      "Highest grade: Mike - 90\n",
      "Highest activity score: Simpson - 100\n",
      "Passed students:\n",
      "Dylan - 50\n",
      "Tom - 85\n",
      "Linda - 60\n",
      "Mike - 90\n",
      "Donald - 55\n",
      "Mike - grade: 90, activity score: 25\n",
      "Average grade: 54.125\n",
      "Average activity score: 73.125\n",
      "Best student: Tom - 80.5\n",
      "Students with grade >= average grade: 4\n"
     ]
    }
   ],
   "source": [
    "# 1. Find the student with the highest grade\n",
    "max_grade = grades[0]\n",
    "i_max = 0\n",
    "for i in range(1, len(grades)):\n",
    "    if grades[i] > max_grade:\n",
    "        max_grade = grades[i]\n",
    "        i_max = i\n",
    "print(f'Highest grade: {students[i_max]} - {max_grade}')\n",
    "\n",
    "# 2. Find the student with the highest activity score\n",
    "max_activity = activities[0]\n",
    "i_max = 0\n",
    "for i in range(1, len(activities)):\n",
    "    if activities[i] > max_activity:\n",
    "        max_activity = activities[i]\n",
    "        i_max = i\n",
    "print(f'Highest activity score: {students[i_max]} - {max_activity}')\n",
    "\n",
    "# 3. Print passed students (grade >= 40)\n",
    "print('Passed students:')\n",
    "for i in range(len(students)):\n",
    "    if grades[i] >= 40:\n",
    "        print(f'{students[i]} - {grades[i]}')\n",
    "\n",
    "# 4. Enter student name, if found print grade and activity scores.\n",
    "name = input('Enter student name: ')\n",
    "found = False\n",
    "for i in range(len(students)):\n",
    "    if students[i] == name:\n",
    "        print(f'{name} - grade: {grades[i]}, activity score: {activities[i]}')\n",
    "        found = True\n",
    "        break\n",
    "if not found:\n",
    "    print('Student not found')\n",
    "# 5. Print the average grade and average activity score of all students\n",
    "sum_grade = 0\n",
    "sum_activity = 0\n",
    "for i in range(len(students)):\n",
    "    sum_grade += grades[i]\n",
    "    sum_activity += activities[i]\n",
    "\n",
    "avg_grade = sum_grade / len(students)\n",
    "print(f'Average grade: {avg_grade}')\n",
    "print(f'Average activity score: {sum_activity / len(students)}')\n",
    "\n",
    "# 6. Find best student (highest grade * 0.7 + highest activity score * 0.3)\n",
    "best_score = grades[0] * 0.7 + activities[0] * 0.3\n",
    "i_best = 0\n",
    "\n",
    "for i in range(len(students)):\n",
    "    score = grades[i] * 0.7 + activities[i] * 0.3\n",
    "    if score > best_score:\n",
    "        best_score = score\n",
    "        i_best = i\n",
    "print(f'Best student: {students[i_best]} - {best_score}')\n",
    "# 7. Count how many student have grade >= average grade\n",
    "count = 0\n",
    "for i in range(len(students)):\n",
    "    if grades[i] > avg_grade:\n",
    "        count += 1\n",
    "print(f'Students with grade >= average grade: {count}')"
   ]
  }
 ],
 "metadata": {
  "kernelspec": {
   "display_name": "Python 3",
   "language": "python",
   "name": "python3"
  },
  "language_info": {
   "codemirror_mode": {
    "name": "ipython",
    "version": 3
   },
   "file_extension": ".py",
   "mimetype": "text/x-python",
   "name": "python",
   "nbconvert_exporter": "python",
   "pygments_lexer": "ipython3",
   "version": "3.12.4"
  }
 },
 "nbformat": 4,
 "nbformat_minor": 2
}
