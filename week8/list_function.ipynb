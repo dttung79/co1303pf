{
 "cells": [
  {
   "cell_type": "code",
   "execution_count": 1,
   "metadata": {},
   "outputs": [
    {
     "name": "stdout",
     "output_type": "stream",
     "text": [
      "Fruit grape has the max price $4.50\n"
     ]
    }
   ],
   "source": [
    "products = ['apple', 'banana', 'orange', 'grape', 'pear']\n",
    "prices = [1.2, 3.3, 2.1, 4.5, 3.2]\n",
    "quantities = [300, 250, 400, 500, 350]\n",
    "# which fruit has the max price\n",
    "max_price = prices[0]\n",
    "i_max = 0\n",
    "for i in range(1, len(products)):\n",
    "    if prices[i] > max_price:\n",
    "        max_price = prices[i]\n",
    "        i_max = i\n",
    "print(f'Fruit {products[i_max]} has the max price ${max_price:.2f}')"
   ]
  },
  {
   "cell_type": "code",
   "execution_count": 2,
   "metadata": {},
   "outputs": [
    {
     "name": "stdout",
     "output_type": "stream",
     "text": [
      "Fruit apple has the min price $1.20\n"
     ]
    }
   ],
   "source": [
    "# Ex1: which fruit has min price?\n",
    "min_price = prices[0]\n",
    "i_min = 0\n",
    "for i in range(1, len(products)):\n",
    "    if prices[i] < min_price:\n",
    "        min_price = prices[i]\n",
    "        i_min = i\n",
    "print(f'Fruit {products[i_min]} has the min price ${min_price:.2f}')"
   ]
  },
  {
   "cell_type": "code",
   "execution_count": 3,
   "metadata": {},
   "outputs": [
    {
     "name": "stdout",
     "output_type": "stream",
     "text": [
      "Fruit grape has the max quantity 500\n"
     ]
    }
   ],
   "source": [
    "# Ex2: which fruit has the max quantity?\n",
    "max_quantity = quantities[0]\n",
    "i_max = 0\n",
    "for i in range(1, len(products)):\n",
    "    if quantities[i] > max_quantity:\n",
    "        max_quantity = quantities[i]\n",
    "        i_max = i\n",
    "print(f'Fruit {products[i_max]} has the max quantity {max_quantity}')"
   ]
  },
  {
   "cell_type": "code",
   "execution_count": 4,
   "metadata": {},
   "outputs": [
    {
     "name": "stdout",
     "output_type": "stream",
     "text": [
      "Fruit grape has the max value 2250.0\n"
     ]
    }
   ],
   "source": [
    "# Ex3: which fruit has the total value (price x quantity) max?\n",
    "max_value = prices[0] * quantities[0]\n",
    "i_max = 0\n",
    "for i in range(1, len(products)):\n",
    "    if prices[i] * quantities[i] > max_value:\n",
    "        max_value = prices[i] * quantities[i]\n",
    "        i_max = i\n",
    "print(f'Fruit {products[i_max]} has the max value {max_value}')"
   ]
  },
  {
   "cell_type": "code",
   "execution_count": 6,
   "metadata": {},
   "outputs": [
    {
     "name": "stdout",
     "output_type": "stream",
     "text": [
      "Product not found\n"
     ]
    }
   ],
   "source": [
    "# Enter product name, if found print price, quantity and total value\n",
    "def find_product(products, x):\n",
    "    for i in range(len(products)):\n",
    "        if products[i] == x:\n",
    "            return i\n",
    "    return -1\n",
    "\n",
    "name = input('Enter product name: ')\n",
    "pos = find_product(products, name)\n",
    "if pos == -1:\n",
    "    print('Product not found')\n",
    "else:\n",
    "    print(f'Fruit {products[pos]}')\n",
    "    print(f'Price: ${prices[pos]:.2f}')\n",
    "    print(f'Quantity: {quantities[pos]}')\n",
    "    print(f'Total value: ${prices[pos] * quantities[pos]:.2f}')"
   ]
  },
  {
   "cell_type": "code",
   "execution_count": 7,
   "metadata": {},
   "outputs": [
    {
     "name": "stdout",
     "output_type": "stream",
     "text": [
      "Total value of all products: $5395.00\n"
     ]
    }
   ],
   "source": [
    "# Calculate total value of all products\n",
    "def total_values(prices, quantities):\n",
    "    s = 0\n",
    "    for i in range(len(prices)):\n",
    "        s += prices[i] * quantities[i]\n",
    "    return s\n",
    "\n",
    "total = total_values(prices, quantities)\n",
    "print(f'Total value of all products: ${total:.2f}')"
   ]
  },
  {
   "cell_type": "code",
   "execution_count": 11,
   "metadata": {},
   "outputs": [
    {
     "name": "stdout",
     "output_type": "stream",
     "text": [
      "Fruit: grape\n",
      "Quantity: 500\n",
      "-----------------\n"
     ]
    }
   ],
   "source": [
    "# Print all products with quantity > n (n is entered by user)\n",
    "n = int(input('Enter n: '))\n",
    "# TODO: use for loop to print all products with quantity > n\n",
    "for i in range(len(products)):\n",
    "    if quantities[i] > n:\n",
    "        print(f'Fruit: {products[i]}')\n",
    "        print(f'Quantity: {quantities[i]}')\n",
    "        print('-----------------')"
   ]
  }
 ],
 "metadata": {
  "kernelspec": {
   "display_name": "Python 3",
   "language": "python",
   "name": "python3"
  },
  "language_info": {
   "codemirror_mode": {
    "name": "ipython",
    "version": 3
   },
   "file_extension": ".py",
   "mimetype": "text/x-python",
   "name": "python",
   "nbconvert_exporter": "python",
   "pygments_lexer": "ipython3",
   "version": "3.12.4"
  }
 },
 "nbformat": 4,
 "nbformat_minor": 2
}
