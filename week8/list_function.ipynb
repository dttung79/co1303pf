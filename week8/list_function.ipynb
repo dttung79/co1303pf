{
 "cells": [
  {
   "cell_type": "code",
   "execution_count": 1,
   "metadata": {},
   "outputs": [
    {
     "name": "stdout",
     "output_type": "stream",
     "text": [
      "Fruit grape has the max price $4.50\n"
     ]
    }
   ],
   "source": [
    "products = ['apple', 'banana', 'orange', 'grape', 'pear']\n",
    "prices = [1.2, 3.3, 2.1, 4.5, 3.2]\n",
    "quantities = [300, 250, 400, 500, 350]\n",
    "# which fruit has the max price\n",
    "max_price = prices[0]\n",
    "i_max = 0\n",
    "for i in range(1, len(products)):\n",
    "    if prices[i] > max_price:\n",
    "        max_price = prices[i]\n",
    "        i_max = i\n",
    "print(f'Fruit {products[i_max]} has the max price ${max_price:.2f}')"
   ]
  },
  {
   "cell_type": "code",
   "execution_count": null,
   "metadata": {},
   "outputs": [],
   "source": [
    "# Ex1: which fruit has min price?"
   ]
  },
  {
   "cell_type": "code",
   "execution_count": null,
   "metadata": {},
   "outputs": [],
   "source": [
    "# Ex2: which fruit has the max quantity?"
   ]
  },
  {
   "cell_type": "code",
   "execution_count": null,
   "metadata": {},
   "outputs": [],
   "source": [
    "# Ex3: which fruit has the total value (price x quantity) max?"
   ]
  }
 ],
 "metadata": {
  "kernelspec": {
   "display_name": "Python 3",
   "language": "python",
   "name": "python3"
  },
  "language_info": {
   "codemirror_mode": {
    "name": "ipython",
    "version": 3
   },
   "file_extension": ".py",
   "mimetype": "text/x-python",
   "name": "python",
   "nbconvert_exporter": "python",
   "pygments_lexer": "ipython3",
   "version": "3.12.4"
  }
 },
 "nbformat": 4,
 "nbformat_minor": 2
}
