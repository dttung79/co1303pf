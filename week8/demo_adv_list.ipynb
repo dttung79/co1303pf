{
 "cells": [
  {
   "cell_type": "code",
   "execution_count": 2,
   "metadata": {},
   "outputs": [
    {
     "name": "stdout",
     "output_type": "stream",
     "text": [
      "[1, 2, 3, 4]\n"
     ]
    }
   ],
   "source": [
    "# List methods: append, insert, remove, pop, clear, index, count, sort, reverse, copy\n",
    "# append an item to a list\n",
    "a = [1, 2, 3]\n",
    "a.append(4)\n",
    "print(a)"
   ]
  },
  {
   "cell_type": "code",
   "execution_count": 3,
   "metadata": {},
   "outputs": [
    {
     "name": "stdout",
     "output_type": "stream",
     "text": [
      "[1, 2, 5, 3, 4]\n"
     ]
    }
   ],
   "source": [
    "# insert an item into a list at a specific index\n",
    "a.insert(2, 5)  # insert 5 at index 2\n",
    "print(a)"
   ]
  },
  {
   "cell_type": "code",
   "execution_count": 4,
   "metadata": {},
   "outputs": [
    {
     "name": "stdout",
     "output_type": "stream",
     "text": [
      "[1, 2, 3, 4]\n"
     ]
    }
   ],
   "source": [
    "# remove an item from a list\n",
    "a.remove(5) # remove item 5 from the list\n",
    "print(a)"
   ]
  },
  {
   "cell_type": "code",
   "execution_count": 5,
   "metadata": {},
   "outputs": [
    {
     "name": "stdout",
     "output_type": "stream",
     "text": [
      "3\n",
      "[1, 2, 4]\n"
     ]
    }
   ],
   "source": [
    "# pop: remove the item at the given position in the list, and return it\n",
    "x = a.pop(2) # remove item at index 2, x will be 3\n",
    "print(x)\n",
    "print(a)"
   ]
  },
  {
   "cell_type": "code",
   "execution_count": 6,
   "metadata": {},
   "outputs": [
    {
     "name": "stdout",
     "output_type": "stream",
     "text": [
      "[]\n"
     ]
    }
   ],
   "source": [
    "# clear: clear all items\n",
    "a.clear()\n",
    "print(a)"
   ]
  },
  {
   "cell_type": "code",
   "execution_count": 7,
   "metadata": {},
   "outputs": [
    {
     "name": "stdout",
     "output_type": "stream",
     "text": [
      "2\n"
     ]
    }
   ],
   "source": [
    "a = [8, 6, 9, 2, 5, 9, 10]\n",
    "i = a.index(9) # index return the position of the first occurrence of the item\n",
    "print(i)"
   ]
  },
  {
   "cell_type": "code",
   "execution_count": 8,
   "metadata": {},
   "outputs": [
    {
     "name": "stdout",
     "output_type": "stream",
     "text": [
      "2\n"
     ]
    }
   ],
   "source": [
    "# count: count how many times an item appears in the list\n",
    "print(a.count(9))"
   ]
  },
  {
   "cell_type": "code",
   "execution_count": 9,
   "metadata": {},
   "outputs": [
    {
     "name": "stdout",
     "output_type": "stream",
     "text": [
      "[10, 15, 62, 63, 25, 71, 61, 99, 35, 26]\n",
      "[10, 15, 62, 63, 25, 71, 61, 99, 35, 26]\n",
      "[10, 15, 25, 26, 35, 61, 62, 63, 71, 99]\n",
      "[10, 15, 25, 26, 35, 61, 62, 63, 71, 99]\n"
     ]
    }
   ],
   "source": [
    "import random as rd\n",
    "a  = rd.sample(range(1, 100), 10)\n",
    "print(a)\n",
    "b = sorted(a)\n",
    "print(a)    # a stays the same\n",
    "print(b)    # b is sorted from a\n",
    "a.sort()    # a is sorted in place\n",
    "print(a)"
   ]
  },
  {
   "cell_type": "code",
   "execution_count": 10,
   "metadata": {},
   "outputs": [
    {
     "name": "stdout",
     "output_type": "stream",
     "text": [
      "[46, 93, 89, 58, 15, 60, 41, 35, 76, 84]\n",
      "[84, 76, 35, 41, 60, 15, 58, 89, 93, 46]\n"
     ]
    }
   ],
   "source": [
    "a  = rd.sample(range(1, 100), 10)\n",
    "print(a)\n",
    "a.reverse() # reverse the list in place\n",
    "print(a)"
   ]
  },
  {
   "cell_type": "code",
   "execution_count": 11,
   "metadata": {},
   "outputs": [
    {
     "name": "stdout",
     "output_type": "stream",
     "text": [
      "[1, 2, 3]\n",
      "[1, 2, 3]\n",
      "[1, 2, 3]\n",
      "-------------------\n",
      "[4, 2, 3]\n",
      "[4, 2, 3]\n",
      "[1, 2, 3]\n"
     ]
    }
   ],
   "source": [
    "a = [1, 2, 3]\n",
    "b = a           # b is a reference to a, meaning b is a\n",
    "c = a.copy()    # c is a copy of a, meaning c is a new list with the same items as a\n",
    "print(a, b, c, sep='\\n')\n",
    "a[0] = 4\n",
    "print('-------------------')\n",
    "print(a, b, c, sep='\\n') # b is a, c is a copy of a, so c are not affected"
   ]
  },
  {
   "cell_type": "code",
   "execution_count": 12,
   "metadata": {},
   "outputs": [],
   "source": [
    "# Slicing: slice a sublist from a list\n",
    "# syntax: a[start:stop] slice (copy) items from start to stop - 1\n",
    "a = rd.sample(range(1, 100), 10)"
   ]
  },
  {
   "cell_type": "code",
   "execution_count": 13,
   "metadata": {},
   "outputs": [
    {
     "name": "stdout",
     "output_type": "stream",
     "text": [
      "[96, 57, 19, 39, 31, 30, 90, 6, 77, 17]\n",
      "[19, 39, 31]\n",
      "[96, 57, 19, 39, 31, 30, 90, 6, 77, 17]\n",
      "[96, 57, 19, 39]\n",
      "[96, 57, 19, 39]\n",
      "[90, 6, 77, 17]\n",
      "[90, 6, 77, 17]\n"
     ]
    }
   ],
   "source": [
    "print(a)\n",
    "print(a[2:5])   # slice from index 2 to 4\n",
    "print(a)\n",
    "print(a[0:4])   # slice from index 0 to 3\n",
    "print(a[:4])    # start is 0 then can be omitted\n",
    "print(a[6:10])  # slice from index 6 to 9\n",
    "print(a[6:])    # stop is the end of the list then can be omitted"
   ]
  },
  {
   "cell_type": "code",
   "execution_count": 14,
   "metadata": {},
   "outputs": [
    {
     "name": "stdout",
     "output_type": "stream",
     "text": [
      "17\n",
      "77\n",
      "96\n"
     ]
    }
   ],
   "source": [
    "# negative index: -1 is the last item, -2 is the second last item, and so on\n",
    "print(a[-1])    # the last item\n",
    "print(a[-2])    # the second last item\n",
    "print(a[-10])   # the first item"
   ]
  },
  {
   "cell_type": "code",
   "execution_count": 17,
   "metadata": {},
   "outputs": [
    {
     "name": "stdout",
     "output_type": "stream",
     "text": [
      "[96, 57, 19, 39, 31, 30, 90, 6, 77, 17]\n",
      "[19, 39, 31, 30, 90, 6]\n"
     ]
    }
   ],
   "source": [
    "# using negative index to slice\n",
    "print(a)\n",
    "print(a[2:-2])  # slice from index 2 to the second last item"
   ]
  },
  {
   "cell_type": "code",
   "execution_count": 21,
   "metadata": {},
   "outputs": [
    {
     "name": "stdout",
     "output_type": "stream",
     "text": [
      "[96, 57, 19, 39, 31, 30, 90, 6, 77, 17]\n",
      "[19, 31, 90]\n",
      "[57, 39, 30, 6, 17]\n",
      "[96, 19, 31, 90, 77]\n",
      "[17, 77, 6, 90, 30, 31, 39, 19, 57, 96]\n"
     ]
    }
   ],
   "source": [
    "# full syntax: a[start:stop:step] => slice from start to stop - 1 with step to skip items\n",
    "print(a)\n",
    "print(a[2:8:2]) # slice from index 2 to 7 with step 2\n",
    "print(a[1::2])  # slice numbers at odd index\n",
    "print(a[::2])   # slice numbers at even index\n",
    "print(a[::-1])  # reverse the list"
   ]
  }
 ],
 "metadata": {
  "kernelspec": {
   "display_name": "Python 3",
   "language": "python",
   "name": "python3"
  },
  "language_info": {
   "codemirror_mode": {
    "name": "ipython",
    "version": 3
   },
   "file_extension": ".py",
   "mimetype": "text/x-python",
   "name": "python",
   "nbconvert_exporter": "python",
   "pygments_lexer": "ipython3",
   "version": "3.12.4"
  }
 },
 "nbformat": 4,
 "nbformat_minor": 2
}
