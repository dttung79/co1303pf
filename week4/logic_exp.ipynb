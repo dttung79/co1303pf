{
 "cells": [
  {
   "cell_type": "markdown",
   "metadata": {},
   "source": [
    "# Logic operators: not, and, or\n",
    "- not (a and b) = not a or not b\n",
    "- not (a or b) = not a and not b\n",
    "- a and b is True if a is True and b is True\n",
    "- a or b is False if a is False and b is False"
   ]
  },
  {
   "cell_type": "code",
   "execution_count": 1,
   "metadata": {},
   "outputs": [],
   "source": [
    "age = int(input('Enter your age: '))\n",
    "language = input('Enter your programming language: ')\n",
    "experience = int(input('Enter years of experience: '))"
   ]
  },
  {
   "cell_type": "code",
   "execution_count": null,
   "metadata": {},
   "outputs": [],
   "source": [
    "print('Candidate age:', age)\n",
    "print('Candidate language:', language)\n",
    "print('Candidate experience:', experience)\n",
    "\n",
    "if experience >= 5:\n",
    "    if language == 'Java' or language == 'C#':\n",
    "        print('You are hired.')\n",
    "    else:\n",
    "        print('Sorry next time')\n",
    "else:\n",
    "    if 18 <= age <= 28 and experience >= 2 and (language == 'Java' or language == 'C#'):\n",
    "        print('You are hired')\n",
    "    else:\n",
    "        print('Sorry next time')"
   ]
  },
  {
   "cell_type": "code",
   "execution_count": null,
   "metadata": {},
   "outputs": [],
   "source": [
    "age_ok = 18 <= age <= 28\n",
    "experience_ok = experience >= 2\n",
    "language_ok = language == 'Java' or language == 'C#'\n",
    "too_experience = experience >= 5\n",
    "hired = False\n",
    "\n",
    "if too_experience and language_ok:\n",
    "    hired = True\n",
    "elif age_ok and experience_ok and language_ok:\n",
    "    hired = True\n",
    "\n",
    "if hired:\n",
    "    print('You are hired')\n",
    "else:\n",
    "    print('Sorry next time')"
   ]
  }
 ],
 "metadata": {
  "kernelspec": {
   "display_name": "Python 3",
   "language": "python",
   "name": "python3"
  },
  "language_info": {
   "codemirror_mode": {
    "name": "ipython",
    "version": 3
   },
   "file_extension": ".py",
   "mimetype": "text/x-python",
   "name": "python",
   "nbconvert_exporter": "python",
   "pygments_lexer": "ipython3",
   "version": "3.12.4"
  }
 },
 "nbformat": 4,
 "nbformat_minor": 2
}
