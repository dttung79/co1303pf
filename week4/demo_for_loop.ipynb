{
 "cells": [
  {
   "cell_type": "markdown",
   "metadata": {},
   "source": [
    "# For loop: to repeat a piece of code a certain number of times\n",
    "## Syntax: for i in range(n): loop n times with i from 0 to n-1"
   ]
  },
  {
   "cell_type": "code",
   "execution_count": null,
   "metadata": {},
   "outputs": [],
   "source": [
    "for i in range(5):\n",
    "    print(i, end=' ')"
   ]
  },
  {
   "cell_type": "code",
   "execution_count": null,
   "metadata": {},
   "outputs": [],
   "source": [
    "# for i in range(1, n+1): loop through 1 to n\n",
    "for i in range(1, 6):\n",
    "    print(i, end=' ')"
   ]
  },
  {
   "cell_type": "code",
   "execution_count": null,
   "metadata": {},
   "outputs": [],
   "source": [
    "# print hello world 5 times\n",
    "for i in range(5):\n",
    "    print('Hello World')"
   ]
  },
  {
   "cell_type": "code",
   "execution_count": null,
   "metadata": {},
   "outputs": [],
   "source": [
    "# print hello world 5 times, not using variable i\n",
    "for _ in range(5):\n",
    "    print('Hello World')"
   ]
  },
  {
   "cell_type": "code",
   "execution_count": 1,
   "metadata": {},
   "outputs": [
    {
     "name": "stdout",
     "output_type": "stream",
     "text": [
      "1 x 3 = 3\n",
      "2 x 3 = 6\n",
      "3 x 3 = 9\n",
      "4 x 3 = 12\n",
      "5 x 3 = 15\n",
      "6 x 3 = 18\n",
      "7 x 3 = 21\n",
      "8 x 3 = 24\n",
      "9 x 3 = 27\n",
      "10 x 3 = 30\n"
     ]
    }
   ],
   "source": [
    "# print multiplication table of n:\n",
    "n = int(input('Enter n: '))\n",
    "for i in range(1, 11):\n",
    "    print(f'{i} x {n} = {i*n}')"
   ]
  },
  {
   "cell_type": "code",
   "execution_count": 7,
   "metadata": {},
   "outputs": [
    {
     "name": "stdout",
     "output_type": "stream",
     "text": [
      "Sum from 1 to 10 = 55\n"
     ]
    }
   ],
   "source": [
    "# Calculate sum from 1 to n\n",
    "n = int(input('Enter n: '))\n",
    "s = 0\n",
    "\n",
    "for i in range(1, n+1):\n",
    "    s = s + i\n",
    "\n",
    "print(f'Sum from 1 to {n} = {s}')"
   ]
  },
  {
   "cell_type": "code",
   "execution_count": 9,
   "metadata": {},
   "outputs": [
    {
     "name": "stdout",
     "output_type": "stream",
     "text": [
      "Product from 1 to 10 = 0\n"
     ]
    }
   ],
   "source": [
    "# Calculate product from 1 to n\n",
    "s = 1\n",
    "for i in range(1, n+1):\n",
    "    s = s * i\n",
    "\n",
    "print(f'Product from 1 to {n} = {s}')"
   ]
  },
  {
   "cell_type": "code",
   "execution_count": 10,
   "metadata": {},
   "outputs": [
    {
     "name": "stdout",
     "output_type": "stream",
     "text": [
      "Sum of even from 1 to 10 = 30\n"
     ]
    }
   ],
   "source": [
    "# Calculate sum of even numbers from 1 to n\n",
    "n = int(input('Enter n: '))\n",
    "s = 0\n",
    "\n",
    "for i in range(1, n+1):\n",
    "    if i % 2 == 0:\n",
    "        s = s + i\n",
    "\n",
    "print(f'Sum of even from 1 to {n} = {s}')"
   ]
  },
  {
   "cell_type": "code",
   "execution_count": 11,
   "metadata": {},
   "outputs": [
    {
     "name": "stdout",
     "output_type": "stream",
     "text": [
      "Sum of even from 1 to 10 = 30\n"
     ]
    }
   ],
   "source": [
    "s = 0\n",
    "# use step = 2 in range, loop through 2, 4, 6, ...\n",
    "for i in range(2, n+1, 2):\n",
    "    s = s + i\n",
    "print(f'Sum of even from 1 to {n} = {s}')"
   ]
  },
  {
   "cell_type": "code",
   "execution_count": null,
   "metadata": {},
   "outputs": [],
   "source": []
  }
 ],
 "metadata": {
  "kernelspec": {
   "display_name": "Python 3",
   "language": "python",
   "name": "python3"
  },
  "language_info": {
   "codemirror_mode": {
    "name": "ipython",
    "version": 3
   },
   "file_extension": ".py",
   "mimetype": "text/x-python",
   "name": "python",
   "nbconvert_exporter": "python",
   "pygments_lexer": "ipython3",
   "version": "3.12.4"
  }
 },
 "nbformat": 4,
 "nbformat_minor": 2
}
