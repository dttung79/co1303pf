{
 "cells": [
  {
   "cell_type": "code",
   "execution_count": null,
   "metadata": {},
   "outputs": [],
   "source": [
    "# open file to read: open(filename, mode)\n",
    "f = open('hello.txt', 'r')\n",
    "content = f.read() # read all the content of the file\n",
    "print(content)\n",
    "f.close() # close the file"
   ]
  },
  {
   "cell_type": "code",
   "execution_count": null,
   "metadata": {},
   "outputs": [],
   "source": [
    "# read all the lines\n",
    "f = open('hello.txt', 'r')\n",
    "lines = f.readlines()\n",
    "print(f'Number of lines: {len(lines)}')\n",
    "print('Content: ')\n",
    "for line in lines:\n",
    "    print(line.strip('\\n'))    # remove the newline character at the end of each line\n",
    "\n",
    "f.close()"
   ]
  },
  {
   "cell_type": "code",
   "execution_count": null,
   "metadata": {},
   "outputs": [],
   "source": [
    "# if file is really big, read line by line\n",
    "f = open('hello.txt', 'r')\n",
    "print('Content: ')\n",
    "count = 0\n",
    "for line in f:\n",
    "    count += 1\n",
    "    print(line.strip('\\n'))    # remove the newline character at the end of each line\n",
    "print(f'Number of lines: {count}')\n",
    "f.close()"
   ]
  },
  {
   "cell_type": "code",
   "execution_count": 10,
   "metadata": {},
   "outputs": [
    {
     "name": "stdout",
     "output_type": "stream",
     "text": [
      "Agencies with Authority in their names: \n",
      "The Triboro Bridge and Tunnel Authority\n",
      "The Metropolitan Transit Authority\n",
      "The Port Authority of New York and New Jersey\n"
     ]
    }
   ],
   "source": [
    "# read agencies.txt, find agencies that have 'Authority' in their names\n",
    "f = open('agencies.txt', 'r')\n",
    "lines = f.readlines()   # read all lines\n",
    "print('Agencies with Authority in their names: ')\n",
    "for line in lines:\n",
    "    if 'Authority' in line:\n",
    "        print(line.strip('\\n'))\n",
    "\n",
    "f.close()   # remember to close the file"
   ]
  },
  {
   "cell_type": "code",
   "execution_count": null,
   "metadata": {},
   "outputs": [
    {
     "name": "stdout",
     "output_type": "stream",
     "text": [
      "Number of authors using gmail: 183\n"
     ]
    }
   ],
   "source": [
    "# Exercise 1: read authors.txt, count how many authors using gmail\n",
    "f = open('authors.txt', 'r')\n",
    "lines = f.readlines()\n",
    "count = 0\n",
    "for line in lines:\n",
    "    if '@gmail.com' in line:\n",
    "        count += 1\n",
    "print(f'Number of authors using gmail: {count}')\n",
    "f.close()"
   ]
  },
  {
   "cell_type": "code",
   "execution_count": 1,
   "metadata": {},
   "outputs": [
    {
     "name": "stdout",
     "output_type": "stream",
     "text": [
      "Authors not using gmail: \n",
      "Name                 Email               \n",
      "Sean Catchpole       sean@sunsean.com>   \n",
      "Gilles van den Hoven gilles@webunity.nl> \n",
      "Micheil Bryan Smith  micheil@brandedcode.com>\n",
      "Marc Grabanski       m@marcgrabanski.com>\n",
      "Keith Wood           kbwood@iinet.com.au>\n",
      "Remy Sharp           remy@leftlogic.com> \n",
      "Maggie Wachs         maggie@filamentgroup.com>\n",
      "Todd Parker          todd@filamentgroup.com>\n",
      "Andrew Powell        andrew@shellscape.org>\n",
      "Douglas Neiner       doug@dougneiner.com>\n",
      "Dominique Vincent    dominique.vincent@toitl.com>\n",
      "Adam Sontag          ajpiano@ajpiano.com>\n",
      "Carl Fürstenberg     carl@excito.com>    \n",
      "Kevin Dalman         development@allpro.net>\n",
      "Ting Kuei            ting@kuei.com>      \n",
      "Samuel Cormier-Iijima sam@chide.it>       \n",
      "Ben Hollis           bhollis@amazon.com> \n",
      "Justin MacCarthy     Justin@Rubystars.biz>\n",
      "Eyal Kobrigo         kobrigo@hotmail.com>\n",
      "Holger Rüprich       holger@rueprich.de> \n",
      "Andrew Newcomb       ext.github@preceptsoftware.co.uk>\n",
      "Daniel Steigerwald   daniel@steigerwald.cz>\n",
      "John Firebaugh       john_firebaugh@bigfix.com>\n",
      "John Enters          github@darkdark.net>\n",
      "Eric Hynds           eric@hynds.net>     \n",
      "Chairat Sunthornwiphat pipo@sixhead.com>   \n",
      "Peter Heiberg        peter@heiberg.se>   \n",
      "Jamie Gegerson       git@jamiegegerson.com>\n",
      "Kyle Wilkinson       kai@wikyd.org>      \n",
      "Khaled AlHourani     me@khaledalhourani.com>\n",
      "Marian Rudzynski     mr@impaled.org>     \n",
      "Jean-Francois Remy   jeff@melix.org>     \n",
      "Filippo Cavallarin   filippo.cavallarin@codseq.it>\n",
      "Heiko Henning        heiko@thehennings.ch>\n",
      "Mario Visic          mario@mariovisic.com>\n",
      "Aaron Peterson       aaronp123@yahoo.com>\n",
      "Ivan Peters          ivan@ivanpeters.com>\n",
      "Mohamed Cherif Bouchelaghem cherifbouchelaghem@yahoo.fr>\n",
      "Marcos Sousa         falecomigo@marcossousa.com>\n",
      "Michael DellaNoce    mdellanoce@mailtrust.com>\n",
      "Tobias Brunner       tobias@strongswan.org>\n",
      "David Petersen       public@petersendidit.com>\n",
      "Guillaume Gautreau   guillaume+github@ghusse.com>\n",
      "Dan Streetman        ddstreet@ieee.org>  \n",
      "Matt Hoskins         matt@nipltd.com>    \n",
      "Giovanni Giacobbi    giovanni@giacobbi.net>\n",
      "Pavol Hluchý         lopo@losys.sk>      \n",
      "Mark Johnson         virgofx@live.com>   \n",
      "Edward A Faulkner    ef@alum.mit.edu>    \n",
      "Adam Baratz          adam@adambaratz.com>\n",
      "Eddie Monge          eddie@eddiemonge.com>\n",
      "Carson McDonald      carson@ioncannon.net>\n",
      "Jason Davies         jason@jasondavies.com>\n",
      "David Murdoch        david@davidmurdoch.com>\n",
      "Dylan Just           dev@ephox.com>      \n",
      "Ryan Neufeld         ryan@neufeldmail.com>\n",
      "Benjamin Sterling    benjamin.sterling@kenzomedia.com>\n",
      "Kouhei Sutou         kou@clear-code.com> \n",
      "Chris Kelly          ckdake@ckdake.com>  \n",
      "Jason Oster          jay@kodewerx.org>   \n",
      "Felix Nagel          info@felixnagel.com>\n",
      "Florian Gutmann      f.gutmann@chronimo.com>\n",
      "Milan Broum          midlis@googlemail.com>\n",
      "Sebastian Sauer      info@dynpages.de>   \n",
      "Michel Weimerskirch  michel@weimerskirch.net>\n",
      "William Griffiths    william@ycymro.com> \n",
      "David De Sloovere    david.desloovere@outlook.com>\n",
      "Michael P. Jung      michael.jung@terreon.de>\n",
      "Dan Wellman          danwellman@hotmail.com>\n",
      "Matthew Edward Hutton meh@corefiling.co.uk>\n",
      "James Khoury         james@jameskhoury.com>\n",
      "Genie                386@mail.com>       \n",
      "Douglas Cerna        douglascerna@yahoo.com>\n",
      "Bert ter Heide       bertjh@hotmail.com> \n",
      "Amir E. Aharoni      amir.aharoni@mail.huji.ac.il>\n",
      "Guntupalli Karunakar karunakarg@yahoo.com>\n",
      "Jason Moon           jmoon@socialcast.com>\n",
      "Martin Frost         martinf55@hotmail.com>\n",
      "Eneko Illarramendi   eneko@illarra.com>  \n",
      "Pavel Stetina        pavel.stetina@nangu.tv>\n",
      "Lee Rowlands         lee.rowlands@previousnext.com.au>\n",
      "Baoju Yuan           the_guy_1987@hotmail.com>\n",
      "Martin Hoch          martin@fidion.de>   \n",
      "Philipp Benjamin Köppchen xgxtpbk@gws.ms>     \n",
      "Bernhard Sirlinger   bernhard.sirlinger@tele2.de>\n",
      "Jared A. Scheel      jared@jaredscheel.com>\n",
      "John Chen            zhang.z.chen@intel.com>\n",
      "Andrew Couch         andy@couchand.com>  \n",
      "Marc-Andre Lafortune github@marc-andre.ca>\n",
      "Nate Eagle           nate.eagle@teamaol.com>\n",
      "Mathias Stenbom      mathias@stenbom.com>\n",
      "Sergey Kartashov     ebishkek@yandex.ru> \n",
      "Anika Henke          anika@selfthinker.org>\n",
      "Samuel Bovée         samycookie2000@yahoo.fr>\n",
      "Fabrício Matté       ult_combo@hotmail.com>\n",
      "Bjørn Johansen       post@bjornjohansen.no>\n",
      "Matthieu Penant      thieum22@hotmail.com>\n",
      "Dominic Barnes       dominic@dbarnes.info>\n",
      "Thomas Jaggi         thomas@responsive.ch>\n",
      "Bruno M. Custódio    bruno@brunomcustodio.com>\n",
      "Christian Wenz       christian@wenz.org> \n",
      "Steve Urmston        steve@urm.st>       \n",
      "Woody Gilk           shadowhand@deviantart.com>\n",
      "Toshi MARUYAMA       marutosijp2@yahoo.co.jp>\n",
      "Steven Luscher       jquerycla@steveluscher.com>\n",
      "Gabriel Schulhof     gabriel.schulhof@intel.com>\n",
      "Vilhjálmur Skúlason  vis@dmm.is>         \n",
      "Siebrand Mazeland    siebrand@kitano.nl> \n",
      "Mohsen Ekhtiari      mohsenekhtiari@yahoo.com>\n",
      "Jasper de Groot      mail@ugomobi.com>   \n",
      "Ondrej Novy          novy@ondrej.org>    \n",
      "Imants Horsts        imants.horsts@inbox.lv>\n",
      "Dave Stein           dave@behance.com>   \n",
      "Dylan Barrell        dylan@barrell.com>  \n",
      "Ruslan Yakhyaev      ruslan@ruslan.io>   \n",
      "Brian J. Dowling     bjd-dev@simplicity.net>\n",
      "Ben Higgins          ben@extrahop.com>   \n",
      "Yermo Lamers         yml@yml.com>        \n",
      "Patrick Stapleton    github@gdi2290.com> \n",
      "Jacques Perrault     jacques_perrault@us.ibm.com>\n",
      "Frederik Elvhage     frederik.elvhage@googlemail.com>\n",
      "Mohammed Alshehri    m@dralshehri.com>   \n",
      "Lisa Seacat DeLuca   ldeluca@us.ibm.com> \n",
      "Anne-Gaelle Colom    coloma@westminster.ac.uk>\n",
      "Daniel Owens         daniel@matchstickmixup.com>\n",
      "Michael Orchard      morchard@scottlogic.co.uk>\n",
      "Marcus Warren        marcus@envoke.com>  \n",
      "Nils Heuermann       nils@world-of-scripts.de>\n",
      "Marco Ziech          marco@ziech.net>    \n",
      "Ben Mosher           me@benmosher.com>   \n",
      "Thomas Applencourt   thomas.applencourt@irsamc.ups-tlse.fr>\n",
      "Eric Lee Carraway    github@ericcarraway.com>\n",
      "Weston Ruter         weston@xwp.co>      \n",
      "Benjamin Albert      benjamin_a5@yahoo.com>\n",
      "Fahad Ahmad          fahadahmad41@hotmail.com>\n",
      "Matt Brundage        github@mattbrundage.com>\n",
      "Piotr Baran          piotros@wp.pl>      \n",
      "Konstantin Dinev     kdinev@mail.bw.edu> \n",
      "Rand Scullard        rand@randscullard.com>\n",
      "Dan Strohl           dan@wjcg.net>       \n",
      "Amine HADDAD         haddad@allegorie.tv>\n",
      "Peter Dave Hello     hsu@peterdavehello.org>\n",
      "Johannes Schäfer     johnschaefer@gmx.de>\n",
      "Ville Skyttä         ville.skytta@iki.fi>\n",
      "Ryan Oriecuia        ryan.oriecuia@visioncritical.com>\n"
     ]
    }
   ],
   "source": [
    "# Exercise 2: Print authors not using gmail\n",
    "# For example\n",
    "# Author:               Email:\n",
    "# Gilles van den Hoven  gilles@webunity.nl\n",
    "# Marc Grabanski        m@marcgrabanski.com\n",
    "f = open('authors.txt', 'r')\n",
    "lines = f.readlines()\n",
    "print('Authors not using gmail: ')\n",
    "print(f'{\"Name\":20} {\"Email\":20}')\n",
    "for line in lines:\n",
    "    if '@' in line and '@gmail.com' not in line:\n",
    "        name = line.split(' <')[0]  # get name\n",
    "        email = line.split(' <')[1] # get email, still has '>'\n",
    "        email = email[:-1]    # remove '>' at the end\n",
    "        print(f'{name:20} {email:20}')"
   ]
  },
  {
   "cell_type": "code",
   "execution_count": 2,
   "metadata": {},
   "outputs": [
    {
     "name": "stdout",
     "output_type": "stream",
     "text": [
      "Name                                    Author                   Price               \n",
      "Harry Potter                            JK Rowling               1000                \n",
      "Java Programming                        Mr. Tung                 200                 \n",
      "Fly over the Cuckoo's Nest              Ken Kesey                300                 \n",
      "The Great Gatsby                        F. Scott Fitzgerald      400                 \n"
     ]
    }
   ],
   "source": [
    "# Read CSV file, normally use comma as delimiter\n",
    "f = open('books.csv', 'r')\n",
    "lines = f.readlines()\n",
    "# print header\n",
    "header = lines[0].strip('\\n').split(',')\n",
    "print(f'{header[0]:40}{header[1]:25}{header[2]:20}')\n",
    "for i in range(1, len(lines)):\n",
    "    line = lines[i].strip('\\n').split(',')\n",
    "    print(f'{line[0]:40}{line[1]:25}{line[2]:20}')\n",
    "f.close()"
   ]
  },
  {
   "cell_type": "code",
   "execution_count": null,
   "metadata": {},
   "outputs": [
    {
     "name": "stdout",
     "output_type": "stream",
     "text": [
      "Name                                    Author                   Price               \n",
      "Harry Potter                            JK Rowling               1000                \n",
      "Java Programming                        Mr. Tung                 200                 \n",
      "Fly over the Cuckoo's Nest              Ken Kesey                300                 \n",
      "The Great Gatsby                        F. Scott Fitzgerald      400                 \n"
     ]
    }
   ],
   "source": [
    "import csv\n",
    "f = open('books.csv', 'r')\n",
    "reader = csv.reader(f)  # create a reader object from the file f\n",
    "header = next(reader)   # read the first line as header\n",
    "print(f'{header[0]:40}{header[1]:25}{header[2]:20}')\n",
    "for row in reader:\n",
    "    print(f'{row[0]:40}{row[1]:25}{row[2]:20}')\n",
    "f.close()"
   ]
  }
 ],
 "metadata": {
  "kernelspec": {
   "display_name": "Python 3",
   "language": "python",
   "name": "python3"
  },
  "language_info": {
   "codemirror_mode": {
    "name": "ipython",
    "version": 3
   },
   "file_extension": ".py",
   "mimetype": "text/x-python",
   "name": "python",
   "nbconvert_exporter": "python",
   "pygments_lexer": "ipython3",
   "version": "3.12.4"
  }
 },
 "nbformat": 4,
 "nbformat_minor": 2
}
