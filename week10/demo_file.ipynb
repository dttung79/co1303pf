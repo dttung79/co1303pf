{
 "cells": [
  {
   "cell_type": "code",
   "execution_count": 2,
   "metadata": {},
   "outputs": [
    {
     "name": "stdout",
     "output_type": "stream",
     "text": [
      "Hello\n",
      "Hello World\n",
      "Hello Python World\n"
     ]
    }
   ],
   "source": [
    "# open file to read: open(filename, mode)\n",
    "f = open('hello.txt', 'r')\n",
    "content = f.read() # read all the content of the file\n",
    "print(content)\n",
    "f.close() # close the file"
   ]
  },
  {
   "cell_type": "code",
   "execution_count": 7,
   "metadata": {},
   "outputs": [
    {
     "name": "stdout",
     "output_type": "stream",
     "text": [
      "Number of lines: 3\n",
      "Content: \n",
      "Hello\n",
      "Hello World\n",
      "Hello Python World\n"
     ]
    }
   ],
   "source": [
    "# read all the lines\n",
    "f = open('hello.txt', 'r')\n",
    "lines = f.readlines()\n",
    "print(f'Number of lines: {len(lines)}')\n",
    "print('Content: ')\n",
    "for line in lines:\n",
    "    print(line.strip('\\n'))    # remove the newline character at the end of each line"
   ]
  }
 ],
 "metadata": {
  "kernelspec": {
   "display_name": "Python 3",
   "language": "python",
   "name": "python3"
  },
  "language_info": {
   "codemirror_mode": {
    "name": "ipython",
    "version": 3
   },
   "file_extension": ".py",
   "mimetype": "text/x-python",
   "name": "python",
   "nbconvert_exporter": "python",
   "pygments_lexer": "ipython3",
   "version": "3.12.4"
  }
 },
 "nbformat": 4,
 "nbformat_minor": 2
}
