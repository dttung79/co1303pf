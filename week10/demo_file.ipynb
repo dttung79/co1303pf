{
 "cells": [
  {
   "cell_type": "code",
   "execution_count": null,
   "metadata": {},
   "outputs": [],
   "source": [
    "# open file to read: open(filename, mode)\n",
    "f = open('hello.txt', 'r')\n",
    "content = f.read() # read all the content of the file\n",
    "print(content)\n",
    "f.close() # close the file"
   ]
  },
  {
   "cell_type": "code",
   "execution_count": null,
   "metadata": {},
   "outputs": [],
   "source": [
    "# read all the lines\n",
    "f = open('hello.txt', 'r')\n",
    "lines = f.readlines()\n",
    "print(f'Number of lines: {len(lines)}')\n",
    "print('Content: ')\n",
    "for line in lines:\n",
    "    print(line.strip('\\n'))    # remove the newline character at the end of each line\n",
    "\n",
    "f.close()"
   ]
  },
  {
   "cell_type": "code",
   "execution_count": null,
   "metadata": {},
   "outputs": [],
   "source": [
    "# if file is really big, read line by line\n",
    "f = open('hello.txt', 'r')\n",
    "print('Content: ')\n",
    "count = 0\n",
    "for line in f:\n",
    "    count += 1\n",
    "    print(line.strip('\\n'))    # remove the newline character at the end of each line\n",
    "print(f'Number of lines: {count}')\n",
    "f.close()"
   ]
  },
  {
   "cell_type": "code",
   "execution_count": 10,
   "metadata": {},
   "outputs": [
    {
     "name": "stdout",
     "output_type": "stream",
     "text": [
      "Agencies with Authority in their names: \n",
      "The Triboro Bridge and Tunnel Authority\n",
      "The Metropolitan Transit Authority\n",
      "The Port Authority of New York and New Jersey\n"
     ]
    }
   ],
   "source": [
    "# read agencies.txt, find agencies that have 'Authority' in their names\n",
    "f = open('agencies.txt', 'r')\n",
    "lines = f.readlines()   # read all lines\n",
    "print('Agencies with Authority in their names: ')\n",
    "for line in lines:\n",
    "    if 'Authority' in line:\n",
    "        print(line.strip('\\n'))\n",
    "\n",
    "f.close()   # remember to close the file"
   ]
  },
  {
   "cell_type": "code",
   "execution_count": null,
   "metadata": {},
   "outputs": [
    {
     "name": "stdout",
     "output_type": "stream",
     "text": [
      "Number of authors using gmail: 183\n"
     ]
    }
   ],
   "source": [
    "# Exercise 1: read authors.txt, count how many authors using gmail\n",
    "f = open('authors.txt', 'r')\n",
    "lines = f.readlines()\n",
    "count = 0\n",
    "for line in lines:\n",
    "    if '@gmail.com' in line:\n",
    "        count += 1\n",
    "print(f'Number of authors using gmail: {count}')\n",
    "f.close()"
   ]
  },
  {
   "cell_type": "code",
   "execution_count": null,
   "metadata": {},
   "outputs": [],
   "source": [
    "# Exercise 2: Print authors not using gmail\n",
    "# For example\n",
    "# Author:               Email:\n",
    "# Gilles van den Hoven  gilles@webunity.nl\n",
    "# Marc Grabanski        m@marcgrabanski.com\n",
    "f = open('authors.txt', 'r')\n",
    "lines = f.readlines()\n",
    "print('Authors not using gmail: ')\n",
    "print(f'{\"Name\":20} {\"Email\":20}')\n",
    "for line in lines:\n",
    "    if '@' in line and '@gmail.com' not in line:\n",
    "        name = line.split(' <')[0]  # get name\n",
    "        email = line.split(' <')[1] # get email, still has '>'\n",
    "        email = email[:-1]    # remove '>' at the end\n",
    "        print(f'{name:20} {email:20}')"
   ]
  },
  {
   "cell_type": "code",
   "execution_count": null,
   "metadata": {},
   "outputs": [
    {
     "name": "stdout",
     "output_type": "stream",
     "text": [
      "Name                                    Author                   Price               \n",
      "Harry Potter                            JK Rowling               1000                \n",
      "Java Programming                        Mr. Tung                 200                 \n",
      "Fly over the Cuckoo's Nest              Ken Kesey                300                 \n",
      "The Great Gatsby                        F. Scott Fitzgerald      400                 \n"
     ]
    }
   ],
   "source": [
    "# Read CSV file, normally use comma as delimiter\n",
    "f = open('books.csv', 'r')\n",
    "lines = f.readlines()\n",
    "# print header\n",
    "header = lines[0].strip('\\n').split(',')\n",
    "print(f'{header[0]:40}{header[1]:25}{header[2]:20}')\n",
    "for i in range(1, len(lines)):\n",
    "    line = lines[i].strip('\\n').split(',')\n",
    "    print(f'{line[0]:40}{line[1]:25}{line[2]:20}')\n",
    "f.close()"
   ]
  },
  {
   "cell_type": "code",
   "execution_count": null,
   "metadata": {},
   "outputs": [
    {
     "name": "stdout",
     "output_type": "stream",
     "text": [
      "Name                                    Author                   Price               \n",
      "Harry Potter                            JK Rowling               1000                \n",
      "Java Programming                        Mr. Tung                 200                 \n",
      "Fly over the Cuckoo's Nest              Ken Kesey                300                 \n",
      "The Great Gatsby                        F. Scott Fitzgerald      400                 \n"
     ]
    }
   ],
   "source": [
    "import csv\n",
    "f = open('books.csv', 'r')\n",
    "reader = csv.reader(f)  # create a reader object from the file f\n",
    "header = next(reader)   # read the first line as header\n",
    "print(f'{header[0]:40}{header[1]:25}{header[2]:20}')\n",
    "for row in reader:\n",
    "    print(f'{row[0]:40}{row[1]:25}{row[2]:20}')\n",
    "f.close()"
   ]
  }
 ],
 "metadata": {
  "kernelspec": {
   "display_name": "Python 3",
   "language": "python",
   "name": "python3"
  },
  "language_info": {
   "codemirror_mode": {
    "name": "ipython",
    "version": 3
   },
   "file_extension": ".py",
   "mimetype": "text/x-python",
   "name": "python",
   "nbconvert_exporter": "python",
   "pygments_lexer": "ipython3",
   "version": "3.12.4"
  }
 },
 "nbformat": 4,
 "nbformat_minor": 2
}
