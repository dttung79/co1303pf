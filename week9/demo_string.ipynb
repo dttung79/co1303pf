{
 "cells": [
  {
   "cell_type": "code",
   "execution_count": 7,
   "metadata": {},
   "outputs": [
    {
     "name": "stdout",
     "output_type": "stream",
     "text": [
      "a = |  123|, b = |123.46|, c = |Python    |\n",
      "a = |            123|\n",
      "b = |         123.46|\n",
      "c = |Python         |\n"
     ]
    }
   ],
   "source": [
    "# Format number: \n",
    "# - integer: %d, float: %f, string: %s\n",
    "# - space: %5d, %5.2f\n",
    "a = 123\n",
    "b = 123.456\n",
    "c = 'Python'\n",
    "print(f'a = |{a:5d}|, b = |{b:5.2f}|, c = |{c:10s}|')\n",
    "print(f'a = |{a:15d}|\\nb = |{b:15.2f}|\\nc = |{c:15s}|')"
   ]
  },
  {
   "cell_type": "code",
   "execution_count": 6,
   "metadata": {},
   "outputs": [
    {
     "name": "stdout",
     "output_type": "stream",
     "text": [
      "a = |123            |\n",
      "b = |    123.46     |\n",
      "c = |         Python|\n"
     ]
    }
   ],
   "source": [
    "# use < or > to align left or right, ^ to center\n",
    "print(f'a = |{a:<15d}|\\nb = |{b:^15.2f}|\\nc = |{c:>15s}|')"
   ]
  },
  {
   "cell_type": "code",
   "execution_count": 9,
   "metadata": {},
   "outputs": [
    {
     "name": "stdout",
     "output_type": "stream",
     "text": [
      "a = 0.00, 4.50e-03, 0.45%\n"
     ]
    }
   ],
   "source": [
    "# Three ways to format a float number: \n",
    "# - %f\n",
    "# - %e\n",
    "# - %\n",
    "a = 0.0045\n",
    "print(f'a = {a:.2f}, {a:.2e}, {a:.2%}')"
   ]
  },
  {
   "cell_type": "code",
   "execution_count": null,
   "metadata": {},
   "outputs": [
    {
     "name": "stdout",
     "output_type": "stream",
     "text": [
      "+----+----------+----------+----------+\n",
      "| No | Product  |  Price   | Quantity |\n",
      "+----+----------+----------+----------+\n",
      "| 1  |     apple|      1.20|       300|\n",
      "+----+----------+----------+----------+\n",
      "| 2  |    banana|      3.30|       250|\n",
      "+----+----------+----------+----------+\n",
      "| 3  |    orange|      2.10|       400|\n",
      "+----+----------+----------+----------+\n",
      "| 4  |     grape|      4.50|       500|\n",
      "+----+----------+----------+----------+\n",
      "| 5  |      pear|      3.20|       350|\n",
      "+----+----------+----------+----------+\n"
     ]
    }
   ],
   "source": [
    "products = ['apple', 'banana', 'orange', 'grape', 'pear']\n",
    "prices = [1.2, 3.3, 2.1, 4.5, 3.2]\n",
    "quantities = [300, 250, 400, 500, 350]\n",
    "# use string format to print a table of products, prices, quantities\n",
    "# print header\n",
    "print('+----+----------+----------+----------+')\n",
    "print(f'|{\"No\":^4}|{\"Product\":^10}|{\"Price\":^10}|{\"Quantity\":^10}|')\n",
    "print('+----+----------+----------+----------+')\n",
    "for i in range(len(products)):\n",
    "    print(f'|{i+1:^4}|{products[i]:>10}|{prices[i]:>10.2f}|{quantities[i]:>10}|')\n",
    "    print('+----+----------+----------+----------+')"
   ]
  },
  {
   "cell_type": "code",
   "execution_count": 17,
   "metadata": {},
   "outputs": [
    {
     "name": "stdout",
     "output_type": "stream",
     "text": [
      "HELLO WORLD\n",
      "hello world\n",
      "Hello world\n",
      "Hello World\n",
      "HEllO wORld\n"
     ]
    }
   ],
   "source": [
    "# string methods: upper, lower, capitalize, title, swapcase\n",
    "s = 'heLLo WorLD'\n",
    "print(s.upper())\n",
    "print(s.lower())\n",
    "print(s.capitalize())\n",
    "print(s.title())\n",
    "print(s.swapcase())"
   ]
  },
  {
   "cell_type": "code",
   "execution_count": 18,
   "metadata": {},
   "outputs": [
    {
     "name": "stdout",
     "output_type": "stream",
     "text": [
      "|hello world|\n",
      "|hello world   |\n",
      "|   hello world|\n"
     ]
    }
   ],
   "source": [
    "# remove white spaces: strip, lstrip, rstrip\n",
    "s = '   hello world   '\n",
    "print(f'|{s.strip()}|')\n",
    "print(f'|{s.lstrip()}|')\n",
    "print(f'|{s.rstrip()}|')"
   ]
  },
  {
   "cell_type": "code",
   "execution_count": 20,
   "metadata": {},
   "outputs": [
    {
     "name": "stdout",
     "output_type": "stream",
     "text": [
      "he110 w0r1d\n"
     ]
    }
   ],
   "source": [
    "# repace one substring by another\n",
    "s = 'hello world'\n",
    "s = s.replace('o', '0')\n",
    "s = s.replace('l', '1')\n",
    "print(s)"
   ]
  },
  {
   "cell_type": "code",
   "execution_count": 23,
   "metadata": {},
   "outputs": [
    {
     "name": "stdout",
     "output_type": "stream",
     "text": [
      "True\n",
      "True\n",
      "True\n",
      "False\n",
      "False\n"
     ]
    }
   ],
   "source": [
    "# is methods: isalnum, isalpha, isdigit, islower, isupper, istitle, isspace\n",
    "s = '123'\n",
    "print(s.isalnum())  # True\n",
    "s = 'abc'\n",
    "print(s.isalpha())  # True\n",
    "s = '123abc'\n",
    "print(s.isalnum())  # True\n",
    "s = '123abc.'\n",
    "print(s.isalnum())  # False\n",
    "s = '123 abc'\n",
    "print(s.isalnum())  # False"
   ]
  },
  {
   "cell_type": "code",
   "execution_count": 30,
   "metadata": {},
   "outputs": [
    {
     "name": "stdout",
     "output_type": "stream",
     "text": [
      "John\n",
      "Valid name\n"
     ]
    }
   ],
   "source": [
    "# example: check if a name is valid or not by using isalpha and istitle\n",
    "def check_name(name):\n",
    "    if name.isalpha() and name.istitle():\n",
    "        return True\n",
    "    return False\n",
    "\n",
    "name = input('Enter your name: ')\n",
    "print(name)\n",
    "if check_name(name):\n",
    "    print('Valid name')\n",
    "else:\n",
    "    print('Invalid name')"
   ]
  },
  {
   "cell_type": "code",
   "execution_count": 36,
   "metadata": {},
   "outputs": [
    {
     "name": "stdout",
     "output_type": "stream",
     "text": [
      "Your age is 30\n"
     ]
    }
   ],
   "source": [
    "# exercise: write a function to check if a string is a valid positive integer or not\n",
    "def is_positive(s):\n",
    "    if s.isdigit():\n",
    "        return True\n",
    "    return False\n",
    "# use the function to check if a string is a valid positive integer or not before converting it to an integer\n",
    "age = input('Enter your age: ')\n",
    "if is_positive(age):\n",
    "    age = int(age)\n",
    "    print(f'Your age is {age}')\n",
    "else:\n",
    "    print('Invalid age')"
   ]
  },
  {
   "cell_type": "code",
   "execution_count": 41,
   "metadata": {},
   "outputs": [
    {
     "name": "stdout",
     "output_type": "stream",
     "text": [
      "6\n",
      "-1\n",
      "True\n",
      "True\n",
      "False\n",
      "False\n",
      "3\n",
      "4\n"
     ]
    }
   ],
   "source": [
    "# string search methods: find, startswith, endswith, count\n",
    "s = 'hello python world'\n",
    "print(s.find('python'))  # 6: because 'python' starts at index 6\n",
    "print(s.find('java'))  # -1: because 'java' is not in s\n",
    "print(s.startswith('hello'))  # True\n",
    "print(s.endswith('world'))  # True\n",
    "print(s.startswith('Hello'))  # False\n",
    "print(s.endswith('World'))  # False\n",
    "print(s.count('o'))  # 3: because there are 3 'o' in s\n",
    "s = 'I\\'m a Big biG girl in a bIg big world'\n",
    "# count how many 'big' in s no matter it is upper or lower case\n",
    "print(s.lower().count('big'))"
   ]
  },
  {
   "cell_type": "code",
   "execution_count": 45,
   "metadata": {},
   "outputs": [
    {
     "name": "stdout",
     "output_type": "stream",
     "text": [
      "['hello', 'Python', 'world']\n",
      "3\n",
      "['apple', 'banana', 'orange', 'grape', 'pear']\n",
      "apple, banana, orange, grape, pear\n",
      "apple+banana+orange+grape+pear\n"
     ]
    }
   ],
   "source": [
    "# count how many words in a string by using split\n",
    "s = 'hello Python world'\n",
    "list_words = s.split()\n",
    "print(list_words)\n",
    "print(len(list_words))\n",
    "# split on other characters\n",
    "s = 'apple,banana,orange,grape,pear'\n",
    "list_words = s.split(',')\n",
    "print(list_words)\n",
    "# join a list of words into a string\n",
    "a = ['apple', 'banana', 'orange', 'grape', 'pear']\n",
    "s = ', '.join(a)\n",
    "print(s)\n",
    "s = '+'.join(a)\n",
    "print(s)"
   ]
  },
  {
   "cell_type": "code",
   "execution_count": 1,
   "metadata": {},
   "outputs": [
    {
     "name": "stdout",
     "output_type": "stream",
     "text": [
      "hello\n",
      "python\n",
      "world\n"
     ]
    }
   ],
   "source": [
    "s = 'hello@python@world'\n",
    "list_words = s.split('@')\n",
    "print(list_words[0])\n",
    "print(list_words[1])\n",
    "print(list_words[2])"
   ]
  }
 ],
 "metadata": {
  "kernelspec": {
   "display_name": "Python 3",
   "language": "python",
   "name": "python3"
  },
  "language_info": {
   "codemirror_mode": {
    "name": "ipython",
    "version": 3
   },
   "file_extension": ".py",
   "mimetype": "text/x-python",
   "name": "python",
   "nbconvert_exporter": "python",
   "pygments_lexer": "ipython3",
   "version": "3.12.4"
  }
 },
 "nbformat": 4,
 "nbformat_minor": 2
}
