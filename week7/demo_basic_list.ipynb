{
 "cells": [
  {
   "cell_type": "code",
   "execution_count": 1,
   "metadata": {},
   "outputs": [
    {
     "name": "stdout",
     "output_type": "stream",
     "text": [
      "[1, 2, 3, 4, 5]\n",
      "[]\n"
     ]
    }
   ],
   "source": [
    "# declare a list using []\n",
    "my_list = [1, 2, 3, 4, 5]\n",
    "print(my_list)\n",
    "# an empty list\n",
    "empty_list = []\n",
    "print(empty_list)"
   ]
  },
  {
   "cell_type": "code",
   "execution_count": 3,
   "metadata": {},
   "outputs": [
    {
     "name": "stdout",
     "output_type": "stream",
     "text": [
      "[None, None, None, None]\n",
      "[0, 0, 0, 0]\n"
     ]
    }
   ],
   "source": [
    "# create a list of 4 items\n",
    "my_list = [None] * 4\n",
    "print(my_list)\n",
    "my_list = [0] * 4\n",
    "print(my_list)"
   ]
  },
  {
   "cell_type": "code",
   "execution_count": 5,
   "metadata": {},
   "outputs": [
    {
     "name": "stdout",
     "output_type": "stream",
     "text": [
      "8\n",
      "7\n",
      "[8, 5, 10, 22, 3]\n"
     ]
    }
   ],
   "source": [
    "# Accessing elements in a list using index\n",
    "numbers = [8, 7, 10, 22, 3]\n",
    "print(numbers[0])   # 8\n",
    "print(numbers[1])   # 7\n",
    "# Change item value by index\n",
    "numbers[1] = 5\n",
    "print(numbers)"
   ]
  },
  {
   "cell_type": "code",
   "execution_count": null,
   "metadata": {},
   "outputs": [
    {
     "name": "stdout",
     "output_type": "stream",
     "text": [
      "[1, 'Hello', 3.4, True]\n",
      "[3.4, True]\n"
     ]
    }
   ],
   "source": [
    "# Python allows list of different data types\n",
    "my_list = [1, \"Hello\", 3.4, True]\n",
    "print(my_list)\n",
    "# even a list can contain another list\n",
    "my_list = [1, \"Hello\", [3.4, True]]\n",
    "print(my_list[2])"
   ]
  },
  {
   "cell_type": "code",
   "execution_count": 11,
   "metadata": {},
   "outputs": [
    {
     "name": "stdout",
     "output_type": "stream",
     "text": [
      "[1, 2, 3, 4, 5, 6]\n",
      "[1, 2, 3, 1, 2, 3, 1, 2, 3]\n",
      "[1, 2, 3, 1, 2, 3, 1, 2, 3]\n",
      "True\n",
      "False\n",
      "True\n"
     ]
    }
   ],
   "source": [
    "# List operators: +, *, in, not in, ==, !=\n",
    "# + operator to concatenate two lists\n",
    "a = [1, 2, 3]\n",
    "b = [4, 5, 6]\n",
    "c = a + b # [1, 2, 3, 4, 5, 6]\n",
    "print(c)\n",
    "# * operator to repeat a list\n",
    "a = [1, 2, 3]\n",
    "b = a * 3\n",
    "print(b)\n",
    "print(3 * a)\n",
    "# in and not in to check if an item is in a list or not\n",
    "a = [1, 2, 3]\n",
    "print(2 in a)   # True\n",
    "print(4 in a)   # False\n",
    "print(5 not in a)   # True"
   ]
  },
  {
   "cell_type": "code",
   "execution_count": 13,
   "metadata": {},
   "outputs": [
    {
     "name": "stdout",
     "output_type": "stream",
     "text": [
      "True\n",
      "False\n"
     ]
    }
   ],
   "source": [
    "a = [1, 2, 3]\n",
    "b = [1, 2, 3]\n",
    "print(a == b)   # True\n",
    "print(a != b)   # False"
   ]
  },
  {
   "cell_type": "code",
   "execution_count": null,
   "metadata": {},
   "outputs": [
    {
     "name": "stdout",
     "output_type": "stream",
     "text": [
      "[1, 2, 3]\n",
      "[1, 2, 3]\n",
      "[5, 2, 3]\n",
      "[5, 2, 3]\n"
     ]
    }
   ],
   "source": [
    "# List is a reference type, when assign b = a, we create a reference to a, not a new list\n",
    "a = [1, 2, 3]\n",
    "b = a\n",
    "print(a, b, sep='\\n')\n",
    "b[0] = 5 # change a[0] to 5 too because a and b refer to the same list\n",
    "print(a, b, sep='\\n')"
   ]
  },
  {
   "cell_type": "code",
   "execution_count": 17,
   "metadata": {},
   "outputs": [
    {
     "name": "stdout",
     "output_type": "stream",
     "text": [
      "3\n",
      "15\n"
     ]
    }
   ],
   "source": [
    "# Some built-in functions / methods for list\n",
    "# to get the length of a list\n",
    "a = ['hello', 'world', 'python']\n",
    "print(len(a))   # 3\n",
    "# to sum all items in a list\n",
    "a = [1, 2, 3, 4, 5]\n",
    "print(sum(a))   # 15"
   ]
  },
  {
   "cell_type": "code",
   "execution_count": null,
   "metadata": {},
   "outputs": [
    {
     "name": "stdout",
     "output_type": "stream",
     "text": [
      "[10, 93, 55, 62, 89, 63, 26, 41, 82, 61]\n",
      "93\n",
      "10\n"
     ]
    }
   ],
   "source": [
    "import random as rd\n",
    "numbers = rd.sample(range(1, 100), 10) # random 10 numbers from 1 to 99\n",
    "print(numbers)\n",
    "print(max(numbers)) # get the maximum value\n",
    "print(min(numbers)) # get the minimum value"
   ]
  },
  {
   "cell_type": "code",
   "execution_count": 25,
   "metadata": {},
   "outputs": [
    {
     "name": "stdout",
     "output_type": "stream",
     "text": [
      "10 93 55 62 89 63 26 41 82 61 \n",
      "Alice Bob Charlie Katty \n",
      "1 Alice\n",
      "2 Bob\n",
      "3 Charlie\n",
      "4 Katty\n"
     ]
    }
   ],
   "source": [
    "# use for loop to iterate over a list\n",
    "for n in numbers:\n",
    "    print(n, end=' ')\n",
    "print()\n",
    "names = ['Alice', 'Bob', 'Charlie', 'Katty']\n",
    "for n in names:\n",
    "    print(n, end=' ')\n",
    "print()\n",
    "# loop using index\n",
    "n = len(names)\n",
    "for i in range(n):\n",
    "    print(i + 1, names[i])"
   ]
  },
  {
   "cell_type": "code",
   "execution_count": 28,
   "metadata": {},
   "outputs": [
    {
     "name": "stdout",
     "output_type": "stream",
     "text": [
      "[10, 93, 55, 62, 89, 63, 26, 41, 82, 61]\n",
      "89 is in the list\n"
     ]
    }
   ],
   "source": [
    "# Find an item in a list\n",
    "# Check if an item is in a list\n",
    "x = 89\n",
    "found = False   # flag to indicate if x is in the list\n",
    "for n in numbers:\n",
    "    if n == x:\n",
    "        found = True\n",
    "        break   # no need to continue searching\n",
    "print(numbers)\n",
    "if found:\n",
    "    print(f'{x} is in the list')\n",
    "else:\n",
    "    print(f'{x} is not in the list')"
   ]
  },
  {
   "cell_type": "code",
   "execution_count": 30,
   "metadata": {},
   "outputs": [
    {
     "name": "stdout",
     "output_type": "stream",
     "text": [
      "John is not in the list\n"
     ]
    }
   ],
   "source": [
    "# Ex1: Given a list of names. Enter a new name, check if the name is in the list\n",
    "list_names = ['Alice', 'Bob', 'Charlie', 'Katty']\n",
    "name = input('Enter a name: ')\n",
    "found = False\n",
    "for n in list_names:\n",
    "    if n == name:\n",
    "        found = True\n",
    "        break\n",
    "if found: print(f'{name} is in the list')\n",
    "else: print(f'{name} is not in the list')"
   ]
  },
  {
   "cell_type": "code",
   "execution_count": 33,
   "metadata": {},
   "outputs": [
    {
     "name": "stdout",
     "output_type": "stream",
     "text": [
      "[10, 93, 55, 62, 89, 63, 26, 41, 82, 61]\n",
      "82 is at position 8\n"
     ]
    }
   ],
   "source": [
    "# Check where x is in the list\n",
    "print(numbers)\n",
    "x = 82\n",
    "position = -1\n",
    "for i in range(len(numbers)):\n",
    "    if numbers[i] == x:\n",
    "        position = i\n",
    "        break\n",
    "if position != -1:\n",
    "    print(f'{x} is at position {position}')\n",
    "else:\n",
    "    print(f'{x} is not in the list')"
   ]
  },
  {
   "cell_type": "code",
   "execution_count": 38,
   "metadata": {},
   "outputs": [
    {
     "name": "stdout",
     "output_type": "stream",
     "text": [
      "4 appears 0 times in the list\n"
     ]
    }
   ],
   "source": [
    "numbers = [2, 3, 2, 1, 3, 5, 8, 8]\n",
    "x = 4\n",
    "\n",
    "count = 0\n",
    "for n in numbers:\n",
    "    if n == x:\n",
    "        count += 1\n",
    "\n",
    "print(f'{x} appears {count} times in the list')"
   ]
  },
  {
   "cell_type": "code",
   "execution_count": 43,
   "metadata": {},
   "outputs": [
    {
     "name": "stdout",
     "output_type": "stream",
     "text": [
      "[46, 9, 11, 99, 33, 49, 89, 98, 45, 17]\n",
      "Sum of all items in the list: 496\n"
     ]
    }
   ],
   "source": [
    "# Sum of all items in a list\n",
    "numbers = rd.sample(range(1, 100), 10)\n",
    "s = 0\n",
    "for n in numbers:\n",
    "    s += n\n",
    "print(numbers)\n",
    "print(f'Sum of all items in the list: {s}')"
   ]
  },
  {
   "cell_type": "code",
   "execution_count": 40,
   "metadata": {},
   "outputs": [
    {
     "name": "stdout",
     "output_type": "stream",
     "text": [
      "Sum of all even numbers in the list: 254\n"
     ]
    }
   ],
   "source": [
    "# Ex2: Given a list of numbers. Sum all even numbers in the list\n",
    "s = 0\n",
    "for n in numbers:\n",
    "    if n % 2 == 0:\n",
    "        s += n\n",
    "print(f'Sum of all even numbers in the list: {s}')"
   ]
  },
  {
   "cell_type": "code",
   "execution_count": 44,
   "metadata": {},
   "outputs": [
    {
     "name": "stdout",
     "output_type": "stream",
     "text": [
      "[46, 9, 11, 99, 33, 49, 89, 98, 45, 17]\n",
      "Maximum value in the list: 99\n"
     ]
    }
   ],
   "source": [
    "# find maximum value in a list\n",
    "print(numbers)\n",
    "# set max to the first item in the list\n",
    "max_num = numbers[0]\n",
    "for i in range(1, len(numbers)):\n",
    "    if numbers[i] > max_num:    # if there is a number greater than max\n",
    "        max_num = numbers[i]    # then update max to that number\n",
    "\n",
    "print(f'Maximum value in the list: {max_num}')"
   ]
  },
  {
   "cell_type": "code",
   "execution_count": null,
   "metadata": {},
   "outputs": [],
   "source": [
    "# Ex3: Given a list of numbers. Find the minimum value in the list\n",
    "# TODO: do it yourself"
   ]
  },
  {
   "cell_type": "code",
   "execution_count": 45,
   "metadata": {},
   "outputs": [
    {
     "name": "stdout",
     "output_type": "stream",
     "text": [
      "[46, 9, 11, 99, 33, 49, 89, 98, 45, 17]\n",
      "Maximum value in the list: 99 at position 3\n"
     ]
    }
   ],
   "source": [
    "# Find where is the maximum value in the list\n",
    "print(numbers)\n",
    "# set max to the first item in the list\n",
    "max_num = numbers[0]\n",
    "max_pos = 0\n",
    "for i in range(1, len(numbers)):\n",
    "    if numbers[i] > max_num:    # if there is a number greater than max\n",
    "        max_num = numbers[i]    # then update max to that number\n",
    "        max_pos = i\n",
    "\n",
    "print(f'Maximum value in the list: {max_num} at position {max_pos}')"
   ]
  },
  {
   "cell_type": "code",
   "execution_count": 46,
   "metadata": {},
   "outputs": [
    {
     "name": "stdout",
     "output_type": "stream",
     "text": [
      "89 is in the list\n",
      "['Alice', 'Bob', 'Charlie', 'Katty']\n",
      "Alice is in the list\n"
     ]
    }
   ],
   "source": [
    "# Write a function to find x in the list\n",
    "def find(x, list_items):\n",
    "    for item in list_items:\n",
    "        if item == x:\n",
    "            return True\n",
    "    \n",
    "    return False\n",
    "\n",
    "x = 89\n",
    "if find(x, numbers):\n",
    "    print(f'{x} is in the list')\n",
    "else:\n",
    "    print(f'{x} is not in the list')\n",
    "\n",
    "print(names)\n",
    "name = input('Enter a name')\n",
    "if find(name, names):\n",
    "    print(f'{name} is in the list')"
   ]
  },
  {
   "cell_type": "code",
   "execution_count": 48,
   "metadata": {},
   "outputs": [
    {
     "name": "stdout",
     "output_type": "stream",
     "text": [
      "[46, 9, 11, 99, 33, 49, 89, 98, 45, 17]\n",
      "89 is at position 6\n"
     ]
    }
   ],
   "source": [
    "def find_pos(x, list_items):\n",
    "    for i in range(len(list_items)):\n",
    "        if list_items[i] == x:\n",
    "            return i\n",
    "    \n",
    "    return -1\n",
    "\n",
    "print(numbers)\n",
    "x = 89\n",
    "pos = find_pos(x, numbers)\n",
    "if pos != -1:\n",
    "    print(f'{x} is at position {pos}')\n",
    "else:\n",
    "    print(f'{x} is not in the list')"
   ]
  },
  {
   "cell_type": "code",
   "execution_count": 53,
   "metadata": {},
   "outputs": [
    {
     "name": "stdout",
     "output_type": "stream",
     "text": [
      "3\n",
      "2\n"
     ]
    }
   ],
   "source": [
    "def count_x(x, list_items):\n",
    "    count = 0\n",
    "    for item in list_items:\n",
    "        if item == x:\n",
    "            count += 1\n",
    "    \n",
    "    return count\n",
    "print(count_x('l', 'hello world'))\n",
    "print(count_x('o', 'hello world'))"
   ]
  }
 ],
 "metadata": {
  "kernelspec": {
   "display_name": "Python 3",
   "language": "python",
   "name": "python3"
  },
  "language_info": {
   "codemirror_mode": {
    "name": "ipython",
    "version": 3
   },
   "file_extension": ".py",
   "mimetype": "text/x-python",
   "name": "python",
   "nbconvert_exporter": "python",
   "pygments_lexer": "ipython3",
   "version": "3.12.4"
  }
 },
 "nbformat": 4,
 "nbformat_minor": 2
}
