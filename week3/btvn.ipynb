{
 "cells": [
  {
   "cell_type": "code",
   "execution_count": null,
   "metadata": {},
   "outputs": [],
   "source": [
    "income = float(input(\"Enter your annual income: \"))\n",
    "status = input(\"Enter your filing status (single/married): \")\n",
    "if status != 'single' and status != 'married':\n",
    "    print('Invalid status')\n",
    "elif income < 0:\n",
    "    print('Invalid income!')\n",
    "elif status == \"single\":\n",
    "    if income <= 9000:\n",
    "        tax_rate = 0.10\n",
    "    elif income <= 40000:\n",
    "        tax_rate = 0.12\n",
    "    elif income <= 85000:\n",
    "        tax_rate = 0.22\n",
    "    else:\n",
    "        tax_rate = 0.24\n",
    "else:\n",
    "    if income <= 19000:\n",
    "        tax_rate = 0.10\n",
    "    elif income <= 80000:\n",
    "        tax_rate = 0.12\n",
    "    elif income <= 170000:\n",
    "        tax_rate = 0.22\n",
    "    else:\n",
    "        tax_rate = 0.24\n",
    "\n",
    "\n",
    "print(f\"Your tax rate is: {tax_rate * 100:.0f}%\")\n"
   ]
  },
  {
   "cell_type": "code",
   "execution_count": 8,
   "metadata": {},
   "outputs": [
    {
     "name": "stdout",
     "output_type": "stream",
     "text": [
      "Overweight\n"
     ]
    }
   ],
   "source": [
    "weight = float(input('The number of kilograms is:'))\n",
    "height = float(input(' The number of m is:'))\n",
    "BMI = weight / (height)**2\n",
    "if weight <= 0 or height <= 0:\n",
    "    print('Invalid weight or height. It must be positive')\n",
    "elif BMI < 18.5:\n",
    "    print('Underweight')\n",
    "elif BMI < 24.9:\n",
    "    print(' Normal weight')\n",
    "elif BMI< 29.9:\n",
    "    print('Overweight')\n",
    "else:\n",
    "    print('Obese')"
   ]
  },
  {
   "cell_type": "code",
   "execution_count": 2,
   "metadata": {},
   "outputs": [
    {
     "name": "stdout",
     "output_type": "stream",
     "text": [
      "The accumulated amount after 5 years is: $51511.25\n"
     ]
    }
   ],
   "source": [
    "P = int(input('The principal amount:'))\n",
    "r = float(input('The annual interest rate:'))\n",
    "n = int(input('The coupling frequency is:'))\n",
    "t = int(input('Time in year:'))\n",
    "A = P*(1+r/n)**n*t\n",
    "if P < 0 or r < 0 or n < 0 or t < 0:\n",
    "    print('Invalid inputs')\n",
    "else:\n",
    "    print(f\"The amount of money accumulated after  {t} years is: ${A:.2f}\")\n"
   ]
  }
 ],
 "metadata": {
  "kernelspec": {
   "display_name": "Python 3",
   "language": "python",
   "name": "python3"
  },
  "language_info": {
   "codemirror_mode": {
    "name": "ipython",
    "version": 3
   },
   "file_extension": ".py",
   "mimetype": "text/x-python",
   "name": "python",
   "nbconvert_exporter": "python",
   "pygments_lexer": "ipython3",
   "version": "3.12.6"
  }
 },
 "nbformat": 4,
 "nbformat_minor": 2
}
