{
 "cells": [
  {
   "cell_type": "markdown",
   "metadata": {},
   "source": [
    "# Conditional statement\n",
    "## Syntax of simple if statement\n",
    "```python\n",
    "if condition:\n",
    "    statement1\n",
    "    statement2\n",
    "    ...    \n",
    "```\n",
    "### Syntax of if-else statement\n",
    "```python\n",
    "if condition:\n",
    "    statement1\n",
    "    statement2\n",
    "    ...\n",
    "else:\n",
    "    statement3\n",
    "    statement4\n",
    "    ...\n",
    "```"
   ]
  },
  {
   "cell_type": "code",
   "execution_count": null,
   "metadata": {},
   "outputs": [],
   "source": [
    "length = int(input('Enter rectangle length: '))\n",
    "width = int(input('Enter rectangle width: '))\n",
    "\n",
    "if length > 0 and width > 0:\n",
    "    area = length * width\n",
    "    perimeter = 2 * (length + width)\n",
    "\n",
    "    print(f'Rectangle {length}x{width} has area {area} and perimeter {perimeter}')\n",
    "else:\n",
    "    print('Length and width must be positive')"
   ]
  },
  {
   "cell_type": "code",
   "execution_count": null,
   "metadata": {},
   "outputs": [],
   "source": [
    "# Defensive programming: always check invalid inputs first\n",
    "if length <= 0 or width <= 0:\n",
    "    print('Length and width must be positive')\n",
    "else:\n",
    "    area = length * width\n",
    "    perimeter = 2 * (length + width)\n",
    "\n",
    "    print(f'Rectangle {length}x{width} has area {area} and perimeter {perimeter}')"
   ]
  },
  {
   "cell_type": "code",
   "execution_count": 2,
   "metadata": {},
   "outputs": [
    {
     "name": "stdout",
     "output_type": "stream",
     "text": [
      "Circle with radius 5 has area 78.50 and perimeter 31.40\n"
     ]
    }
   ],
   "source": [
    "# Redo circle area and perimeter with if statement, using defensive programming\n",
    "# define a constant\n",
    "PI = 3.14\n",
    "radius = int(input('Enter circle radius: '))\n",
    "\n",
    "if radius <= 0: # always check invalid inputs first\n",
    "    print('Radius must be positive')\n",
    "else:\n",
    "    area = PI * radius ** 2\n",
    "    perimeter = 2 * PI * radius\n",
    "    print(f'Circle with radius {radius} has area {area:.2f} and perimeter {perimeter:.2f}')"
   ]
  },
  {
   "cell_type": "code",
   "execution_count": 4,
   "metadata": {},
   "outputs": [
    {
     "name": "stdout",
     "output_type": "stream",
     "text": [
      "Invalid triangle sides\n"
     ]
    }
   ],
   "source": [
    "# Redo triangle area and perimeter with if statement, using defensive programming\n",
    "a = int(input('Enter triangle side a: '))\n",
    "b = int(input('Enter triangle side b: '))\n",
    "c = int(input('Enter triangle side c: '))\n",
    "\n",
    "if a <= 0 or b <= 0 or c <= 0 or a + b <= c or a + c <= b or b + c <= a:\n",
    "    print('Invalid triangle sides')\n",
    "else:\n",
    "    p = (a + b + c) / 2\n",
    "    s = (p * (p - a) * (p - b) * (p - c)) ** 0.5\n",
    "    print(f'Area : {s:.2f}, perimeter: {p * 2:.2f}')"
   ]
  },
  {
   "cell_type": "markdown",
   "metadata": {},
   "source": [
    "## nested if-else statement: an if is inside another if\n",
    "Syntax:\n",
    "```python\n",
    "if condition1:\n",
    "    statement1\n",
    "    statement2\n",
    "    ...\n",
    "    if condition2:\n",
    "        statement3\n",
    "        statement4\n",
    "        ...\n",
    "    else:\n",
    "        statement5\n",
    "        statement6\n",
    "        ...\n",
    "```\n",
    "Should not nested too much, it will make the code complex and hard to read."
   ]
  },
  {
   "cell_type": "code",
   "execution_count": null,
   "metadata": {},
   "outputs": [],
   "source": [
    "# redo triangle using nested if statements\n",
    "# note that we need 2 levels of indentation\n",
    "a = int(input('Enter triangle side a: '))\n",
    "b = int(input('Enter triangle side b: '))\n",
    "c = int(input('Enter triangle side c: '))\n",
    "\n",
    "if a <= 0 or b <= 0 or c <= 0:\n",
    "    print('Invalid triangle sides. All sides must be positive')\n",
    "else:\n",
    "    if a + b <= c or a + c <= b or b + c <= a:\n",
    "        print('Invalid triangle sides. Sum of two sides must be greater than the third side')\n",
    "    else:\n",
    "        p = (a + b + c) / 2\n",
    "        s = (p * (p - a) * (p - b) * (p - c)) ** 0.5\n",
    "        print(f'Area : {s:.2f}, perimeter: {p * 2:.2f}')"
   ]
  },
  {
   "cell_type": "markdown",
   "metadata": {},
   "source": [
    "## if-else ladder: multiple if-else statements, avoid nested if-else in some cases\n",
    "Syntax:\n",
    "```python\n",
    "if condition1:\n",
    "    statement1\n",
    "    statement2\n",
    "    ...\n",
    "elif condition2:\n",
    "    statement3\n",
    "    statement4\n",
    "    ...\n",
    "elif condition3:\n",
    "    statement5\n",
    "    statement6\n",
    "    ..."
   ]
  },
  {
   "cell_type": "code",
   "execution_count": null,
   "metadata": {},
   "outputs": [],
   "source": [
    "# redo triangle using if-elif-else, this way cost only one level of indentation\n",
    "if a <= 0 or b <= 0 or c <= 0:\n",
    "    print('Invalid triangle sides. All sides must be positive')\n",
    "elif a + b <= c or a + c <= b or b + c <= a:\n",
    "    print('Invalid triangle sides. Sum of two sides must be greater than the third side')\n",
    "else:\n",
    "    p = (a + b + c) / 2\n",
    "    s = (p * (p - a) * (p - b) * (p - c)) ** 0.5\n",
    "    print(f'Area : {s:.2f}, perimeter: {p * 2:.2f}')"
   ]
  },
  {
   "cell_type": "code",
   "execution_count": null,
   "metadata": {},
   "outputs": [],
   "source": [
    "# use if-elif-else statement to determine rank based on score\n",
    "# arrange if-elif-else in descending order of score\n",
    "math = float(input('Enter math score: '))\n",
    "english = float(input('Enter english score: '))\n",
    "literature = float(input('Enter literature score: '))\n",
    "\n",
    "avg = (math + english + literature) / 3\n",
    "if math < 0 or math > 10 or english < 0 or english > 10 or literature < 0 or literature > 10:\n",
    "    print('Invalid score. Score must be between 0 and 10')\n",
    "elif avg < 4: # avg is alread >= 0 based on the above if statement\n",
    "    print('Rank: Not passed')\n",
    "elif avg < 6: # avg is already >= 4 based on the above if statement\n",
    "    print('Rank: Passed')\n",
    "elif avg < 8: # avg is already >= 6 based on the above if statement\n",
    "    print('Rank: Merit')\n",
    "else: # avg is already >= 8 based on the above if statement\n",
    "    print('Rank: Distinction')"
   ]
  },
  {
   "cell_type": "code",
   "execution_count": null,
   "metadata": {},
   "outputs": [],
   "source": [
    "# Exercise: A sale is in charge of selling new product (computer)\n",
    "# Enter price and quantity, calculate total income\n",
    "# Rank of sale is determined by total income (100000-200000: silver, up to 500000: gold, over 500000 diamond)\n",
    "price = float(input('Enter price: '))\n",
    "quantity = int(input('Enter quantity: '))\n",
    "income = price * quantity\n",
    "\n",
    "if price < 0 or quantity < 0:\n",
    "    print('Invalid price or quantity. Both must be positive')\n",
    "elif income < 100000:\n",
    "    print(f'Total income: {income}, Rank: None')\n",
    "elif income < 200000:\n",
    "    print(f'Total income: {income}, Rank: Silver')\n",
    "elif income < 500000:\n",
    "    print(f'Total income: {income}, Rank: Gold')\n",
    "else:\n",
    "    print(f'Total income: {income}, Rank: Diamond')"
   ]
  }
 ],
 "metadata": {
  "kernelspec": {
   "display_name": "Python 3",
   "language": "python",
   "name": "python3"
  },
  "language_info": {
   "codemirror_mode": {
    "name": "ipython",
    "version": 3
   },
   "file_extension": ".py",
   "mimetype": "text/x-python",
   "name": "python",
   "nbconvert_exporter": "python",
   "pygments_lexer": "ipython3",
   "version": "3.12.4"
  }
 },
 "nbformat": 4,
 "nbformat_minor": 2
}
