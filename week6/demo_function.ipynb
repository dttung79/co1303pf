{
 "cells": [
  {
   "cell_type": "code",
   "execution_count": null,
   "metadata": {},
   "outputs": [],
   "source": [
    "print('*** + *** + *** + ***')\n",
    "print('*** + *** + *** + ***')\n",
    "print('*** + *** + *** + ***')\n",
    "print('*** + *** + *** + ***')"
   ]
  },
  {
   "cell_type": "code",
   "execution_count": null,
   "metadata": {},
   "outputs": [],
   "source": [
    "# 1st level of reuse: using variable\n",
    "content = '###'\n",
    "connect = ' : '\n",
    "print(f'{content}{connect}{content}{connect}{content}{connect}{content}{connect}{content}')\n",
    "print(f'{content}{connect}{content}{connect}{content}{connect}{content}{connect}{content}')\n",
    "print(f'{content}{connect}{content}{connect}{content}{connect}{content}{connect}{content}')\n",
    "print(f'{content}{connect}{content}{connect}{content}{connect}{content}{connect}{content}')\n",
    "print(f'{content}{connect}{content}{connect}{content}{connect}{content}{connect}{content}')\n",
    "print(f'{content}{connect}{content}{connect}{content}{connect}{content}{connect}{content}')\n"
   ]
  },
  {
   "cell_type": "code",
   "execution_count": null,
   "metadata": {},
   "outputs": [],
   "source": [
    "# 2nd level of reuse: using loop\n",
    "content = '###'\n",
    "connect = ' : '\n",
    "width = 10\n",
    "height = 6\n",
    "for i in range(height):\n",
    "    for j in range(width - 1):\n",
    "        print(content, end='')\n",
    "        print(connect, end='')\n",
    "    print(content)"
   ]
  },
  {
   "cell_type": "code",
   "execution_count": 16,
   "metadata": {},
   "outputs": [],
   "source": [
    "# 3rd level of reuse: using function\n",
    "# a function is a piece of code that can be reused by calling its name\n",
    "# a function includes: a keyword def, a name, a list of parameters (optional), a colon, a block of code\n",
    "def hello():\n",
    "    print('Hello, world!')\n",
    "    print('How are you?')"
   ]
  },
  {
   "cell_type": "code",
   "execution_count": null,
   "metadata": {},
   "outputs": [],
   "source": [
    "hello()\n",
    "hello()"
   ]
  },
  {
   "cell_type": "code",
   "execution_count": null,
   "metadata": {},
   "outputs": [],
   "source": [
    "def hello(name): # name is a parameter\n",
    "    print(f'Hello, {name}!')\n",
    "    print('How are you?')\n",
    "\n",
    "hello('Alice') # Alice is an argument\n",
    "hello('Bob')"
   ]
  },
  {
   "cell_type": "code",
   "execution_count": null,
   "metadata": {},
   "outputs": [],
   "source": [
    "def print_line(content, connect, width):\n",
    "    for i in range(width - 1):\n",
    "        print(content, end='')\n",
    "        print(connect, end='')\n",
    "    print(content)\n",
    "\n",
    "content = '###'\n",
    "connect = ' : '\n",
    "width = 10\n",
    "height = 6\n",
    "\n",
    "for i in range(height):\n",
    "    print_line(content, connect, width)"
   ]
  },
  {
   "cell_type": "code",
   "execution_count": 23,
   "metadata": {},
   "outputs": [],
   "source": [
    "def average_grade(math, english, science):\n",
    "    avg = (math + english + science) / 3\n",
    "    print(f'The average grade is {avg:.2f}')"
   ]
  },
  {
   "cell_type": "code",
   "execution_count": 24,
   "metadata": {},
   "outputs": [
    {
     "name": "stdout",
     "output_type": "stream",
     "text": [
      "The average grade is 7.67\n",
      "The average grade is 7.67\n",
      "The average grade is 7.67\n"
     ]
    }
   ],
   "source": [
    "math = 6.5\n",
    "english = 7.5\n",
    "science = 9.0\n",
    "average_grade(math, english, science) # call the function passing the arguments as variables\n",
    "average_grade(6.5, 7.5, 9.0) # call the function passing the arguments by values\n",
    "average_grade(math, 7.5, 9.0) # call the function passing the arguments by values and variables"
   ]
  },
  {
   "cell_type": "code",
   "execution_count": null,
   "metadata": {},
   "outputs": [],
   "source": [
    "# Ex1: Write a function to print multiplication table of a number n\n",
    "def multiple_table(n):\n",
    "    for i in range(1, 11):\n",
    "        print(f'{i} x {n} = {i * n}')\n",
    "\n",
    "multiple_table(5)"
   ]
  },
  {
   "cell_type": "code",
   "execution_count": null,
   "metadata": {},
   "outputs": [],
   "source": [
    "# Ex2: Write a function to convert temperature from Celsius to Fahrenheit then print the result\n",
    "# formula: F = C * 9/5 + 32"
   ]
  },
  {
   "cell_type": "code",
   "execution_count": 26,
   "metadata": {},
   "outputs": [
    {
     "name": "stdout",
     "output_type": "stream",
     "text": [
      "22 celcius = 71.6 fahrenheit\n"
     ]
    }
   ],
   "source": [
    "def convert_celcius(c):\n",
    "    f = c * 9/5 + 32\n",
    "    print(f'{c} celcius = {f} fahrenheit')\n",
    "\n",
    "c = int(input('Enter the temperature in celcius: '))\n",
    "convert_celcius(c)"
   ]
  },
  {
   "cell_type": "code",
   "execution_count": null,
   "metadata": {},
   "outputs": [],
   "source": [
    "# scope of variable in function\n",
    "def convert_celcius(c):\n",
    "    f = c * 9/5 + 32\n",
    "    print(f'{c} celcius = {f} fahrenheit')\n",
    "\n",
    "c = 20\n",
    "convert_celcius(c)\n",
    "print(f) # f is not defined because it is a local variable of the function convert_celcius"
   ]
  },
  {
   "cell_type": "code",
   "execution_count": 28,
   "metadata": {},
   "outputs": [
    {
     "name": "stdout",
     "output_type": "stream",
     "text": [
      "20 celcius = 68.0 fahrenheit\n"
     ]
    }
   ],
   "source": [
    "# Function that return a value\n",
    "# Rewrite the function convert_celcius to return the result instead of printing it\n",
    "def convert_celcius(c):\n",
    "    f = c * 9/5 + 32\n",
    "    return f\n",
    "c = 20\n",
    "f = convert_celcius(c)\n",
    "print(f'{c} celcius = {f} fahrenheit')"
   ]
  },
  {
   "cell_type": "code",
   "execution_count": 29,
   "metadata": {},
   "outputs": [
    {
     "name": "stdout",
     "output_type": "stream",
     "text": [
      "The average grade is 7.67\n"
     ]
    }
   ],
   "source": [
    "# Should re-write the average_grade function to return the result instead of printing it\n",
    "def average_grade(math, english, science):\n",
    "    avg = (math + english + science) / 3\n",
    "    return avg\n",
    "\n",
    "a = average_grade(6.5, 7.5, 9.0)\n",
    "print(f'The average grade is {a:.2f}')"
   ]
  },
  {
   "cell_type": "code",
   "execution_count": 31,
   "metadata": {},
   "outputs": [
    {
     "name": "stdout",
     "output_type": "stream",
     "text": [
      "Min: 3, Max: 5\n",
      "Min: 3, Max: 5\n"
     ]
    }
   ],
   "source": [
    "# Function in Python can return multiple outputs\n",
    "def min_max(a, b):\n",
    "    if a < b:\n",
    "        return a, b\n",
    "    else:\n",
    "        return b, a\n",
    "min, max = min_max(5, 3)\n",
    "print(f'Min: {min}, Max: {max}')\n",
    "min, max = min_max(3, 5)\n",
    "print(f'Min: {min}, Max: {max}')"
   ]
  },
  {
   "cell_type": "code",
   "execution_count": null,
   "metadata": {},
   "outputs": [],
   "source": [
    "# Rewrite the following code using function\n",
    "n = 6\n",
    "def print_triangle(n):\n",
    "    for i in range(n):\n",
    "        for j in range(i + 1):\n",
    "            print('*', end=' ')\n",
    "        print()\n",
    "\n",
    "print_triangle(n)\n",
    "print('----')\n",
    "print_triangle(4)"
   ]
  },
  {
   "cell_type": "code",
   "execution_count": 38,
   "metadata": {},
   "outputs": [
    {
     "name": "stdout",
     "output_type": "stream",
     "text": [
      "? \n",
      "? ? \n",
      "? ? ? \n",
      "? ? ? ? \n",
      "@ \n",
      "@ @ \n",
      "@ @ @ \n",
      "@ @ @ @ \n",
      "@ @ @ @ @ \n"
     ]
    }
   ],
   "source": [
    "# Rewrite function above to accept symbol as parameter\n",
    "def print_triangle(n, symbol):\n",
    "    for i in range(n):\n",
    "        for j in range(i + 1):\n",
    "            print(symbol, end=' ')\n",
    "        print()\n",
    "\n",
    "print_triangle(4, '?')\n",
    "print_triangle(5, '@')"
   ]
  },
  {
   "cell_type": "code",
   "execution_count": 39,
   "metadata": {},
   "outputs": [],
   "source": [
    "# Rewrite following code using function with 3 parameters\n",
    "def print_rectangle(m, n, symbol):\n",
    "    for i in range(m):\n",
    "        for j in range(n):\n",
    "            print(symbol, end=' ')\n",
    "        print()"
   ]
  },
  {
   "cell_type": "code",
   "execution_count": null,
   "metadata": {},
   "outputs": [],
   "source": [
    "print_rectangle(3, 10, '$')"
   ]
  },
  {
   "cell_type": "code",
   "execution_count": 41,
   "metadata": {},
   "outputs": [
    {
     "name": "stdout",
     "output_type": "stream",
     "text": [
      "# # # # # # # # # # \n"
     ]
    }
   ],
   "source": [
    "def print_line(n, symbol):\n",
    "    for i in range(n):\n",
    "        print(symbol, end=' ')\n",
    "    print()\n",
    "\n",
    "print_line(10, '#')"
   ]
  },
  {
   "cell_type": "code",
   "execution_count": null,
   "metadata": {},
   "outputs": [],
   "source": [
    "def print_rectangle(m, n, symbol):\n",
    "    for i in range(m):\n",
    "        print_line(n, symbol)"
   ]
  },
  {
   "cell_type": "code",
   "execution_count": 42,
   "metadata": {},
   "outputs": [],
   "source": [
    "def sell_products(employee):\n",
    "    total_sales = 0\n",
    "    print(f'Employee {employee} is selling products')\n",
    "    while total_sales < 1000:\n",
    "        product = input(\"Enter the product name: \")\n",
    "        price = float(input(\"Enter the price of the product: \"))\n",
    "        print(f'Sell {product} for ${price}')\n",
    "        total_sales += price\n",
    "        print(f'Current total sales: ${total_sales}')\n",
    "\n",
    "    print(f'Final total sales for {employee}: ${total_sales}')"
   ]
  },
  {
   "cell_type": "code",
   "execution_count": null,
   "metadata": {},
   "outputs": [],
   "source": [
    "running = True\n",
    "while running:\n",
    "    employee = input('Enter name: ')\n",
    "    sell_products(employee)\n",
    "    answer = input('Do you want to continue? (y/n): ')\n",
    "    running = answer.lower() == 'y'"
   ]
  },
  {
   "cell_type": "code",
   "execution_count": null,
   "metadata": {},
   "outputs": [],
   "source": [
    "# A woman wants to buy stuff from a store. She has a budget of $100\n",
    "# Program will ask for the item and its price. If the total price exceeds $100, the program will stop\n",
    "# Re-write this exercise using function\n",
    "def buy_stuffs(budget):\n",
    "    total_price = 0\n",
    "    while total_price < budget:\n",
    "        item = input('Enter item name: ')\n",
    "        price = int(input('Enter price: '))\n",
    "        total_price += price\n",
    "\n",
    "    print(f'Total price: {total_price}')\n",
    "\n",
    "budget = int(input('Enter budget: '))\n",
    "buy_stuffs(budget)"
   ]
  },
  {
   "cell_type": "code",
   "execution_count": 44,
   "metadata": {},
   "outputs": [],
   "source": [
    "# Write a function that calculate interest amount according to the formula: \n",
    "# A = P(1 + r/n)^(nt)\n",
    "# A is the amount of money accumulated after n years, including interest.\n",
    "# P is the principal amount (the initial amount of money).\n",
    "# r is the annual interest rate (decimal).\n",
    "# n is the number of times that interest is compounded per year.\n",
    "# t is the number of years the money is invested for.\n",
    "\n",
    "# Then write a program to calculate the interest amount for a client based on user inputs, after that, ask the user if they want to continue with other client or not\n",
    "\n",
    "def calculate_interest(P, r, n, t):\n",
    "    if P <= 0 or r <= 0 or n <= 0 or t <= 0:\n",
    "        print('Invalid input')\n",
    "        return 0\n",
    "    \n",
    "    A = P * (1 + r/n) ** (n * t)\n",
    "    return A\n",
    "\n",
    "def main():\n",
    "    calculating = True\n",
    "    while calculating:\n",
    "        P = float(input('Enter principal amount: '))\n",
    "        r = float(input('Enter annual interest rate: '))\n",
    "        n = int(input('Enter number of times interest is compounded per year: '))\n",
    "        t = int(input('Enter number of years: '))\n",
    "\n",
    "        A = calculate_interest(P, r, n, t)\n",
    "        if A != 0:\n",
    "            print(f'Total amount: {A:.2f}')\n",
    "\n",
    "        answer = input('Do you want to continue? (y/n): ')\n",
    "        calculating = answer.lower() == 'y'\n",
    "\n",
    "# Call main function to run program\n",
    "main()"
   ]
  }
 ],
 "metadata": {
  "kernelspec": {
   "display_name": "Python 3",
   "language": "python",
   "name": "python3"
  },
  "language_info": {
   "codemirror_mode": {
    "name": "ipython",
    "version": 3
   },
   "file_extension": ".py",
   "mimetype": "text/x-python",
   "name": "python",
   "nbconvert_exporter": "python",
   "pygments_lexer": "ipython3",
   "version": "3.12.4"
  }
 },
 "nbformat": 4,
 "nbformat_minor": 2
}
